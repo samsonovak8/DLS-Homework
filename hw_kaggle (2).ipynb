{
 "cells": [
  {
   "cell_type": "markdown",
   "metadata": {
    "id": "TK7oX5qdEEYr"
   },
   "source": [
    "# Домашнее задание. Решение конкурса на kaggle.com\n",
    "\n",
    "Это домашнее задание посвящено полноценному решению задачи машинного обучения."
   ]
  },
  {
   "cell_type": "markdown",
   "metadata": {
    "id": "zlB-owfaEEYs"
   },
   "source": [
    "Есть две части этого домашнего задания: \n",
    "\n",
    "### Отправить ваши предсказания в Stepik.\n",
    "За прохождение определенных порогов будут начисляться баллы. Эта часть оценивается из 5 баллов.\n",
    "\n",
    "1) $1.00 \\geqslant score \\geqslant 0.84$ --- 5 баллов\n",
    "\n",
    "2) $0.84 > score \\geqslant 0.77$ --- 4 балла\n",
    "\n",
    "3) $0.77 > score \\geqslant 0.70$ --- 3 балла\n",
    "\n",
    "4) $0.70 > score \\geqslant 0.65$ --- 2 балла\n",
    "\n",
    "5) $0.65 > score \\geqslant 0.6$ --- 1 балл\n",
    "\n",
    "6) $0.60 > score$ --- 0 баллов\n",
    "\n",
    "Для этого мы предварительно разделили данные в задании на две части.\n",
    "* `train.csv`. На этом наборе данных вам необходимо создать и обучить модель. Подробное описание файла есть в ноутбуке.\n",
    "* `test.csv`. В каждой строчке файла `test.csv` указаны признаки тестовых объектов. Предсказания для этого набора необходимо записать в файл submission.csv и сдать в соответствующий шаг на Stepik. Количество попыток ограничено 100 штук.\n",
    "\n",
    "Отправлять в Stepik вы будете файл с ответами `my_submission.csv`. В этом файле вам необходимо для каждого объекта из датасета предсказать вероятность класса 1. Мы подготовили для вас файл с примером посылки `submission.csv`. Ваш файл должен быть оформлен таким же образом. В ноутбуке есть пример оформления файла посылки. Для отправки файла с предсказаниями на Stepik есть отдельный шаг.\n",
    "\n",
    "### Сделать полноценный отчет о вашей работе.\n",
    "Опишите, как вы обработали данные, какие модели попробовали и какие результаты получились (максимум 10 баллов). За каждую выполненную часть будет начислено определенное количество баллов. В этом пункте вам необходимо отправить файл в формате .ipynb на Stepik --- для этого в домашнем задании есть отдельный шаг. Этот пункт оценивается из 10 баллов.\n",
    "\n",
    "**Вторая часть будет проверяться в формате peer-review. Т.е. вашу посылку на Stepik будут проверять 3 других студента, и медианное значение их оценок будет выставлено. Чтобы получить баллы, вам также нужно будет проверить трех других учеников. Это станет доступно после того, как вы сдадите задание сами.**\n",
    "\n",
    "### Контест на Kaggle\n",
    "Для вашего удобства мы подготовили [контест на Kaggle](https://www.kaggle.com/c/advanced-dls-spring-2021/). Тестирующая система на Kaggle выдает те же баллы, что и Stepik. Мы рекомендуем в качестве основной тестирующей системы использовать именно Kaggle, а затем сдать лучшую посылку на Stepik. Так вы привыкните работать с Kaggle. \n",
    "\n",
    "Проблема для российских пользователей Kaggle заключается в том, что подтверждение аккаунта по номеру телефона работает с перебоями или не работает вообще. Без подтвержденного номера телефона вы не сможете совершать посылки в kaggle. Если у вас возникла такая проблема, мы советуем следующие шаги:\n",
    "* Попробовать зарегистрировать аккаунт с аутентификацией через gmail. В таком случае, аккаунт должен работать без подтверждения номера телефона.\n",
    "* Если у вас есть не российский номер, используйте его для верификации аккаунта.\n",
    "* Если на номер телефона не приходит смс для верификации аккаунта, обратитесь в службу поддержки kaggle. Они с переменным успехом умеют подтверждать аккаунты вручную.\n",
    "* Если все же подтвердить аккаунт и получить доступ к сдаче заданий не удалось, используйте только сдачу в Stepik.\n",
    "\n",
    "### Несколько замечаний по выполнению работы\n",
    "* Во всех пунктах указания это минимальный набор вещей, которые стоит сделать. Если вы можете сделать какой-то шаг лучше или добавить что-то свое --- дерзайте!\n",
    "* Пожалуйста, перед сдачей ноутбука убедитесь, что работа чистая и понятная. Это значительно облегчит проверку и повысит ваши ожидаемые баллы. \n",
    "* Если у вас будут проблемы с решением или хочется совета, то пишите в наш чат в телеграме.\n",
    "\n",
    "\n",
    "Данные: [train.csv](https://drive.google.com/file/d/1ERwQ5odiK1Zvi1LtjpkzCMUswYsAX8_K/view?usp=share_link), \n",
    "[test.csv](https://drive.google.com/file/d/1fGw_-RFwvn_LEdt91Jq-7A-wzG6mmH8r/view?usp=share_link), [submission.csv](https://drive.google.com/file/d/199Mt4OYZNaelT83U-HGDsEYs2YcUGQ6y/view?usp=share_link). \n",
    "\n",
    "Если ссылки на данные не работают, их можно скачать [на Kaggle](https://www.kaggle.com/competitions/advanced-dls-spring-2021/data)."
   ]
  },
  {
   "cell_type": "markdown",
   "metadata": {
    "id": "Tu_JvqcBEN8Y"
   },
   "source": [
    "# Как проверять?\n",
    "\n",
    "Ставьте полный балл, если выполнены все рекомендации или сделано что-то более интересное и сложное. За каждый отсустствующий пункт из рекомендации снижайте 1 балл.\n",
    "\n",
    "**Если решение верное, но не удовлетворяет вашим эстетическим предпочтениям, за это баллы снижать не нужно.**"
   ]
  },
  {
   "cell_type": "markdown",
   "metadata": {
    "id": "ninJ63mJEEYt"
   },
   "source": [
    "# Метрика\n",
    "\n",
    "Перед решением любой задачи важно понимать, как будет оцениваться ваше решение. В данном случае мы используем стандартную для задачи классификации метрику ROC-AUC. Ее можно вычислить, используя только предсказанные вероятности и истинные классы без конкретного порога классификации + она раотает даже если классы в данных сильно несбалансированны (примеров одного класса в десятки раз больше примеров длугого). Именно поэтому она очень удобна для соревнований.\n",
    "\n",
    "Посчитать ее легко:\n"
   ]
  },
  {
   "cell_type": "code",
   "execution_count": 1,
   "metadata": {
    "id": "SQIrka7yEEYu",
    "outputId": "ef45a9f2-7571-47b1-e697-b474b65cb0fb"
   },
   "outputs": [
    {
     "data": {
      "text/plain": [
       "0.8333333333333333"
      ]
     },
     "execution_count": 1,
     "metadata": {},
     "output_type": "execute_result"
    }
   ],
   "source": [
    "from sklearn.metrics import roc_auc_score\n",
    "\n",
    "y_true = [\n",
    "    0,\n",
    "    1,\n",
    "    1,\n",
    "    0,\n",
    "    1\n",
    "]\n",
    "\n",
    "y_predictions = [\n",
    "    0.1,\n",
    "    0.9,\n",
    "    0.4,\n",
    "    0.6,\n",
    "    0.61\n",
    "]\n",
    "\n",
    "roc_auc_score(y_true, y_predictions)"
   ]
  },
  {
   "cell_type": "markdown",
   "metadata": {
    "id": "IrDNNkNTEEYz"
   },
   "source": [
    "# Первая часть. Исследование"
   ]
  },
  {
   "cell_type": "code",
   "execution_count": 2,
   "metadata": {
    "id": "lzLqEeZKEEYz"
   },
   "outputs": [],
   "source": [
    "import pandas as pd\n",
    "import numpy as np\n",
    "from matplotlib import pyplot as plt"
   ]
  },
  {
   "cell_type": "markdown",
   "metadata": {
    "id": "LOlxdURSEEY3"
   },
   "source": [
    "## Загрузка данных (2 балла)\n",
    "\n",
    "1) Посмотрите на случайные строчки. \n",
    "\n",
    "2) Посмотрите, есть ли в датасете незаполненные значения (nan'ы) с помощью data.isna() или data.info() и, если нужно, замените их на что-то. Будет хорошо, если вы построите табличку с количеством nan в каждой колонке."
   ]
  },
  {
   "cell_type": "code",
   "execution_count": 3,
   "metadata": {
    "id": "XULA1f3ch6RL"
   },
   "outputs": [
    {
     "name": "stderr",
     "output_type": "stream",
     "text": [
      "\"gdown\" ­Ґ пў«пҐвбп ў­гваҐ­­Ґ© Ё«Ё ў­Ґи­Ґ©\n",
      "Є®¬ ­¤®©, ЁбЇ®«­пҐ¬®© Їа®Ја ¬¬®© Ё«Ё Ї ЄҐв­л¬ д ©«®¬.\n",
      "\"gdown\" ­Ґ пў«пҐвбп ў­гваҐ­­Ґ© Ё«Ё ў­Ґи­Ґ©\n",
      "Є®¬ ­¤®©, ЁбЇ®«­пҐ¬®© Їа®Ја ¬¬®© Ё«Ё Ї ЄҐв­л¬ д ©«®¬.\n",
      "\"gdown\" ­Ґ пў«пҐвбп ў­гваҐ­­Ґ© Ё«Ё ў­Ґи­Ґ©\n",
      "Є®¬ ­¤®©, ЁбЇ®«­пҐ¬®© Їа®Ја ¬¬®© Ё«Ё Ї ЄҐв­л¬ д ©«®¬.\n"
     ]
    }
   ],
   "source": [
    "!gdown 1ERwQ5odiK1Zvi1LtjpkzCMUswYsAX8_K  # train.csv\n",
    "!gdown 1fGw_-RFwvn_LEdt91Jq-7A-wzG6mmH8r  # test.csv\n",
    "!gdown 199Mt4OYZNaelT83U-HGDsEYs2YcUGQ6y;  # submission.csv"
   ]
  },
  {
   "cell_type": "code",
   "execution_count": 4,
   "metadata": {
    "id": "pw-Brue9EEY3"
   },
   "outputs": [],
   "source": [
    "data = pd.read_csv('./train.csv')"
   ]
  },
  {
   "cell_type": "code",
   "execution_count": 5,
   "metadata": {
    "id": "KgnkkF5bEEY9"
   },
   "outputs": [],
   "source": [
    "# Для вашего удобства списки с именами разных колонок\n",
    "\n",
    "# Числовые признаки\n",
    "num_cols = [\n",
    "    'ClientPeriod',\n",
    "    'MonthlySpending',\n",
    "    'TotalSpent'\n",
    "]\n",
    "\n",
    "# Категориальные признаки\n",
    "cat_cols = [\n",
    "    'Sex',\n",
    "    'IsSeniorCitizen',\n",
    "    'HasPartner',\n",
    "    'HasChild',\n",
    "    'HasPhoneService',\n",
    "    'HasMultiplePhoneNumbers',\n",
    "    'HasInternetService',\n",
    "    'HasOnlineSecurityService',\n",
    "    'HasOnlineBackup',\n",
    "    'HasDeviceProtection',\n",
    "    'HasTechSupportAccess',\n",
    "    'HasOnlineTV',\n",
    "    'HasMovieSubscription',\n",
    "    'HasContractPhone',\n",
    "    'IsBillingPaperless',\n",
    "    'PaymentMethod'\n",
    "]\n",
    "\n",
    "feature_cols = num_cols + cat_cols\n",
    "target_col = 'Churn'"
   ]
  },
  {
   "cell_type": "code",
   "execution_count": 6,
   "metadata": {
    "id": "tHC6gWabEEZA"
   },
   "outputs": [
    {
     "data": {
      "text/html": [
       "<div>\n",
       "<style scoped>\n",
       "    .dataframe tbody tr th:only-of-type {\n",
       "        vertical-align: middle;\n",
       "    }\n",
       "\n",
       "    .dataframe tbody tr th {\n",
       "        vertical-align: top;\n",
       "    }\n",
       "\n",
       "    .dataframe thead th {\n",
       "        text-align: right;\n",
       "    }\n",
       "</style>\n",
       "<table border=\"1\" class=\"dataframe\">\n",
       "  <thead>\n",
       "    <tr style=\"text-align: right;\">\n",
       "      <th></th>\n",
       "      <th>ClientPeriod</th>\n",
       "      <th>MonthlySpending</th>\n",
       "      <th>TotalSpent</th>\n",
       "      <th>Sex</th>\n",
       "      <th>IsSeniorCitizen</th>\n",
       "      <th>HasPartner</th>\n",
       "      <th>HasChild</th>\n",
       "      <th>HasPhoneService</th>\n",
       "      <th>HasMultiplePhoneNumbers</th>\n",
       "      <th>HasInternetService</th>\n",
       "      <th>HasOnlineSecurityService</th>\n",
       "      <th>HasOnlineBackup</th>\n",
       "      <th>HasDeviceProtection</th>\n",
       "      <th>HasTechSupportAccess</th>\n",
       "      <th>HasOnlineTV</th>\n",
       "      <th>HasMovieSubscription</th>\n",
       "      <th>HasContractPhone</th>\n",
       "      <th>IsBillingPaperless</th>\n",
       "      <th>PaymentMethod</th>\n",
       "      <th>Churn</th>\n",
       "    </tr>\n",
       "  </thead>\n",
       "  <tbody>\n",
       "    <tr>\n",
       "      <th>0</th>\n",
       "      <td>55</td>\n",
       "      <td>19.50</td>\n",
       "      <td>1026.35</td>\n",
       "      <td>Male</td>\n",
       "      <td>0</td>\n",
       "      <td>Yes</td>\n",
       "      <td>Yes</td>\n",
       "      <td>Yes</td>\n",
       "      <td>No</td>\n",
       "      <td>No</td>\n",
       "      <td>No internet service</td>\n",
       "      <td>No internet service</td>\n",
       "      <td>No internet service</td>\n",
       "      <td>No internet service</td>\n",
       "      <td>No internet service</td>\n",
       "      <td>No internet service</td>\n",
       "      <td>One year</td>\n",
       "      <td>No</td>\n",
       "      <td>Mailed check</td>\n",
       "      <td>0</td>\n",
       "    </tr>\n",
       "    <tr>\n",
       "      <th>1</th>\n",
       "      <td>72</td>\n",
       "      <td>25.85</td>\n",
       "      <td>1872.2</td>\n",
       "      <td>Male</td>\n",
       "      <td>0</td>\n",
       "      <td>Yes</td>\n",
       "      <td>No</td>\n",
       "      <td>Yes</td>\n",
       "      <td>Yes</td>\n",
       "      <td>No</td>\n",
       "      <td>No internet service</td>\n",
       "      <td>No internet service</td>\n",
       "      <td>No internet service</td>\n",
       "      <td>No internet service</td>\n",
       "      <td>No internet service</td>\n",
       "      <td>No internet service</td>\n",
       "      <td>Two year</td>\n",
       "      <td>No</td>\n",
       "      <td>Credit card (automatic)</td>\n",
       "      <td>0</td>\n",
       "    </tr>\n",
       "    <tr>\n",
       "      <th>2</th>\n",
       "      <td>1</td>\n",
       "      <td>75.90</td>\n",
       "      <td>75.9</td>\n",
       "      <td>Male</td>\n",
       "      <td>0</td>\n",
       "      <td>No</td>\n",
       "      <td>No</td>\n",
       "      <td>Yes</td>\n",
       "      <td>No</td>\n",
       "      <td>Fiber optic</td>\n",
       "      <td>No</td>\n",
       "      <td>No</td>\n",
       "      <td>No</td>\n",
       "      <td>Yes</td>\n",
       "      <td>No</td>\n",
       "      <td>No</td>\n",
       "      <td>Month-to-month</td>\n",
       "      <td>Yes</td>\n",
       "      <td>Electronic check</td>\n",
       "      <td>1</td>\n",
       "    </tr>\n",
       "    <tr>\n",
       "      <th>3</th>\n",
       "      <td>32</td>\n",
       "      <td>79.30</td>\n",
       "      <td>2570</td>\n",
       "      <td>Female</td>\n",
       "      <td>1</td>\n",
       "      <td>Yes</td>\n",
       "      <td>No</td>\n",
       "      <td>Yes</td>\n",
       "      <td>Yes</td>\n",
       "      <td>Fiber optic</td>\n",
       "      <td>No</td>\n",
       "      <td>No</td>\n",
       "      <td>Yes</td>\n",
       "      <td>No</td>\n",
       "      <td>No</td>\n",
       "      <td>No</td>\n",
       "      <td>Month-to-month</td>\n",
       "      <td>No</td>\n",
       "      <td>Mailed check</td>\n",
       "      <td>0</td>\n",
       "    </tr>\n",
       "    <tr>\n",
       "      <th>4</th>\n",
       "      <td>60</td>\n",
       "      <td>115.25</td>\n",
       "      <td>6758.45</td>\n",
       "      <td>Female</td>\n",
       "      <td>0</td>\n",
       "      <td>Yes</td>\n",
       "      <td>Yes</td>\n",
       "      <td>Yes</td>\n",
       "      <td>Yes</td>\n",
       "      <td>Fiber optic</td>\n",
       "      <td>Yes</td>\n",
       "      <td>Yes</td>\n",
       "      <td>Yes</td>\n",
       "      <td>Yes</td>\n",
       "      <td>Yes</td>\n",
       "      <td>Yes</td>\n",
       "      <td>Two year</td>\n",
       "      <td>No</td>\n",
       "      <td>Credit card (automatic)</td>\n",
       "      <td>0</td>\n",
       "    </tr>\n",
       "  </tbody>\n",
       "</table>\n",
       "</div>"
      ],
      "text/plain": [
       "   ClientPeriod  MonthlySpending TotalSpent     Sex  IsSeniorCitizen  \\\n",
       "0            55            19.50    1026.35    Male                0   \n",
       "1            72            25.85     1872.2    Male                0   \n",
       "2             1            75.90       75.9    Male                0   \n",
       "3            32            79.30       2570  Female                1   \n",
       "4            60           115.25    6758.45  Female                0   \n",
       "\n",
       "  HasPartner HasChild HasPhoneService HasMultiplePhoneNumbers  \\\n",
       "0        Yes      Yes             Yes                      No   \n",
       "1        Yes       No             Yes                     Yes   \n",
       "2         No       No             Yes                      No   \n",
       "3        Yes       No             Yes                     Yes   \n",
       "4        Yes      Yes             Yes                     Yes   \n",
       "\n",
       "  HasInternetService HasOnlineSecurityService      HasOnlineBackup  \\\n",
       "0                 No      No internet service  No internet service   \n",
       "1                 No      No internet service  No internet service   \n",
       "2        Fiber optic                       No                   No   \n",
       "3        Fiber optic                       No                   No   \n",
       "4        Fiber optic                      Yes                  Yes   \n",
       "\n",
       "   HasDeviceProtection HasTechSupportAccess          HasOnlineTV  \\\n",
       "0  No internet service  No internet service  No internet service   \n",
       "1  No internet service  No internet service  No internet service   \n",
       "2                   No                  Yes                   No   \n",
       "3                  Yes                   No                   No   \n",
       "4                  Yes                  Yes                  Yes   \n",
       "\n",
       "  HasMovieSubscription HasContractPhone IsBillingPaperless  \\\n",
       "0  No internet service         One year                 No   \n",
       "1  No internet service         Two year                 No   \n",
       "2                   No   Month-to-month                Yes   \n",
       "3                   No   Month-to-month                 No   \n",
       "4                  Yes         Two year                 No   \n",
       "\n",
       "             PaymentMethod  Churn  \n",
       "0             Mailed check      0  \n",
       "1  Credit card (automatic)      0  \n",
       "2         Electronic check      1  \n",
       "3             Mailed check      0  \n",
       "4  Credit card (automatic)      0  "
      ]
     },
     "execution_count": 6,
     "metadata": {},
     "output_type": "execute_result"
    }
   ],
   "source": [
    "# YOUR CODE\n",
    "#Считаем данные и посмотрим на первые несколько строк. Видим, что у нас тут немало категориальных признаков.\n",
    "data.head()"
   ]
  },
  {
   "cell_type": "code",
   "execution_count": 7,
   "metadata": {},
   "outputs": [
    {
     "data": {
      "text/plain": [
       "(5282, 20)"
      ]
     },
     "execution_count": 7,
     "metadata": {},
     "output_type": "execute_result"
    }
   ],
   "source": [
    "#Проверим размерность данных для дальнейшего учета и проверки.\n",
    "data.shape"
   ]
  },
  {
   "cell_type": "code",
   "execution_count": 8,
   "metadata": {},
   "outputs": [
    {
     "data": {
      "text/plain": [
       "ClientPeriod                0\n",
       "MonthlySpending             0\n",
       "TotalSpent                  0\n",
       "Sex                         0\n",
       "IsSeniorCitizen             0\n",
       "HasPartner                  0\n",
       "HasChild                    0\n",
       "HasPhoneService             0\n",
       "HasMultiplePhoneNumbers     0\n",
       "HasInternetService          0\n",
       "HasOnlineSecurityService    0\n",
       "HasOnlineBackup             0\n",
       "HasDeviceProtection         0\n",
       "HasTechSupportAccess        0\n",
       "HasOnlineTV                 0\n",
       "HasMovieSubscription        0\n",
       "HasContractPhone            0\n",
       "IsBillingPaperless          0\n",
       "PaymentMethod               0\n",
       "Churn                       0\n",
       "dtype: int64"
      ]
     },
     "execution_count": 8,
     "metadata": {},
     "output_type": "execute_result"
    }
   ],
   "source": [
    "#Проверим наличие Nan в исходных данных.\n",
    "data.isna().sum()"
   ]
  },
  {
   "cell_type": "code",
   "execution_count": 9,
   "metadata": {},
   "outputs": [],
   "source": [
    "#В датасете отсутствуют незаполненные значения (nan'ы), но, забегая вперед, \n",
    "#стоит отметить, что есть пропущенные значения, с которыми будем бороться далее."
   ]
  },
  {
   "cell_type": "markdown",
   "metadata": {
    "id": "dK370bPCEEZD"
   },
   "source": [
    "## Анализ данных (3 балла)\n",
    "\n",
    "1) Для численных призанков постройте гистограмму (*plt.hist(...)*) или boxplot (*plt.boxplot(...)*). Для категориальных посчитайте количество каждого значения для каждого признака. Для каждой колонки надо сделать *data.value_counts()* и построить bar диаграммы *plt.bar(...)* или круговые диаграммы *plt.pie(...)* (хорошо, елси вы сможете это сделать на одном гарфике с помощью *plt.subplots(...)*). \n",
    "\n",
    "2) Посмотрите на распределение целевой переменной и скажите, являются ли классы несбалансированными.\n",
    "\n",
    "3) (Если будет желание) Поиграйте с разными библиотеками для визуализации - *sns*, *pandas_visual_analysis*, etc.\n",
    "\n",
    "Второй пункт очень важен, потому что существуют задачи классификации с несбалансированными классами. Например, это может значить, что в датасете намного больше примеров 0 класса. В таких случаях нужно 1) не использовать accuracy как метрику 2) использовать методы борьбы с imbalanced dataset (обычно если датасет сильно несбалансирован, т.е. класса 1 в 20 раз меньше класса 0)."
   ]
  },
  {
   "cell_type": "code",
   "execution_count": 10,
   "metadata": {},
   "outputs": [
    {
     "name": "stdout",
     "output_type": "stream",
     "text": [
      "<class 'pandas.core.frame.DataFrame'>\n",
      "RangeIndex: 5282 entries, 0 to 5281\n",
      "Data columns (total 20 columns):\n",
      " #   Column                    Non-Null Count  Dtype  \n",
      "---  ------                    --------------  -----  \n",
      " 0   ClientPeriod              5282 non-null   int64  \n",
      " 1   MonthlySpending           5282 non-null   float64\n",
      " 2   TotalSpent                5282 non-null   object \n",
      " 3   Sex                       5282 non-null   object \n",
      " 4   IsSeniorCitizen           5282 non-null   int64  \n",
      " 5   HasPartner                5282 non-null   object \n",
      " 6   HasChild                  5282 non-null   object \n",
      " 7   HasPhoneService           5282 non-null   object \n",
      " 8   HasMultiplePhoneNumbers   5282 non-null   object \n",
      " 9   HasInternetService        5282 non-null   object \n",
      " 10  HasOnlineSecurityService  5282 non-null   object \n",
      " 11  HasOnlineBackup           5282 non-null   object \n",
      " 12  HasDeviceProtection       5282 non-null   object \n",
      " 13  HasTechSupportAccess      5282 non-null   object \n",
      " 14  HasOnlineTV               5282 non-null   object \n",
      " 15  HasMovieSubscription      5282 non-null   object \n",
      " 16  HasContractPhone          5282 non-null   object \n",
      " 17  IsBillingPaperless        5282 non-null   object \n",
      " 18  PaymentMethod             5282 non-null   object \n",
      " 19  Churn                     5282 non-null   int64  \n",
      "dtypes: float64(1), int64(3), object(16)\n",
      "memory usage: 825.4+ KB\n"
     ]
    }
   ],
   "source": [
    "#Выведем основную информацию о датасате: нас интересуют Nan-значения и тип признаков. В исходных данных признак \n",
    "#data['TotalSpent'] отнесен к количественных признакам, но имеет тип 'object'. При попытке изменить тип на 'float64' \n",
    "#выдается указание на то, что присутствуют Nan. Так как на предыдущих шагах Nan'ы не были обнаружены, пробем заменить ' ' на\n",
    "# Nan.\n",
    "data.info()"
   ]
  },
  {
   "cell_type": "code",
   "execution_count": 11,
   "metadata": {},
   "outputs": [],
   "source": [
    "#Замена ' ' на Nan.\n",
    "data['TotalSpent'] = data['TotalSpent'].replace(' ' , np.nan , regex=True)"
   ]
  },
  {
   "cell_type": "code",
   "execution_count": 12,
   "metadata": {},
   "outputs": [
    {
     "data": {
      "text/plain": [
       "ClientPeriod                0\n",
       "MonthlySpending             0\n",
       "TotalSpent                  9\n",
       "Sex                         0\n",
       "IsSeniorCitizen             0\n",
       "HasPartner                  0\n",
       "HasChild                    0\n",
       "HasPhoneService             0\n",
       "HasMultiplePhoneNumbers     0\n",
       "HasInternetService          0\n",
       "HasOnlineSecurityService    0\n",
       "HasOnlineBackup             0\n",
       "HasDeviceProtection         0\n",
       "HasTechSupportAccess        0\n",
       "HasOnlineTV                 0\n",
       "HasMovieSubscription        0\n",
       "HasContractPhone            0\n",
       "IsBillingPaperless          0\n",
       "PaymentMethod               0\n",
       "Churn                       0\n",
       "dtype: int64"
      ]
     },
     "execution_count": 12,
     "metadata": {},
     "output_type": "execute_result"
    }
   ],
   "source": [
    "#Производим повторную проверку наличия Nan в исходных данных.\n",
    "data.isna().sum()"
   ]
  },
  {
   "cell_type": "code",
   "execution_count": 13,
   "metadata": {},
   "outputs": [],
   "source": [
    "#Так как признак data['TotalSpent'] является количественным, целесообразно заменить Nan'ы медианным значением по признаку,\n",
    "#что позволит избавится от Nan, не сместить исходные данные и не потерять размер выборки.\n",
    "data = data.fillna({'TotalSpent' : data['TotalSpent'].median()})"
   ]
  },
  {
   "cell_type": "code",
   "execution_count": 14,
   "metadata": {},
   "outputs": [],
   "source": [
    "#После замены Nan изменим тип data['TotalSpent'] на 'float64'.\n",
    "data['TotalSpent'] = data['TotalSpent'].astype(float)"
   ]
  },
  {
   "cell_type": "code",
   "execution_count": 15,
   "metadata": {},
   "outputs": [
    {
     "data": {
      "text/plain": [
       "ClientPeriod                0\n",
       "MonthlySpending             0\n",
       "TotalSpent                  0\n",
       "Sex                         0\n",
       "IsSeniorCitizen             0\n",
       "HasPartner                  0\n",
       "HasChild                    0\n",
       "HasPhoneService             0\n",
       "HasMultiplePhoneNumbers     0\n",
       "HasInternetService          0\n",
       "HasOnlineSecurityService    0\n",
       "HasOnlineBackup             0\n",
       "HasDeviceProtection         0\n",
       "HasTechSupportAccess        0\n",
       "HasOnlineTV                 0\n",
       "HasMovieSubscription        0\n",
       "HasContractPhone            0\n",
       "IsBillingPaperless          0\n",
       "PaymentMethod               0\n",
       "Churn                       0\n",
       "dtype: int64"
      ]
     },
     "execution_count": 15,
     "metadata": {},
     "output_type": "execute_result"
    }
   ],
   "source": [
    "#Повторно убедимся, что пропуски отсутствуют.\n",
    "data.isna().sum()"
   ]
  },
  {
   "cell_type": "code",
   "execution_count": 16,
   "metadata": {
    "id": "NZkbgFJZEEZE"
   },
   "outputs": [
    {
     "data": {
      "image/png": "[encoded data removed]",
      "text/plain": [
       "<Figure size 1000x400 with 4 Axes>"
      ]
     },
     "metadata": {},
     "output_type": "display_data"
    }
   ],
   "source": [
    "# YOUR CODE\n",
    "#Для численных призанков построим гистограммы для анализа распределения выборки. Стоит отметить, что распределение\n",
    "#data['ClientPeriod'] неунимодально (имеет два пика), а два остальных признака имеют в своих распределениях смещения.\n",
    "data[num_cols].hist(figsize=(10, 4));"
   ]
  },
  {
   "cell_type": "code",
   "execution_count": 17,
   "metadata": {},
   "outputs": [
    {
     "data": {
      "image/png": "[encoded data removed]",
      "text/plain": [
       "<Figure size 640x480 with 1 Axes>"
      ]
     },
     "metadata": {},
     "output_type": "display_data"
    },
    {
     "data": {
      "image/png": "[encoded data removed]",
      "text/plain": [
       "<Figure size 640x480 with 1 Axes>"
      ]
     },
     "metadata": {},
     "output_type": "display_data"
    },
    {
     "data": {
      "image/png": "[encoded data removed]",
      "text/plain": [
       "<Figure size 640x480 with 1 Axes>"
      ]
     },
     "metadata": {},
     "output_type": "display_data"
    },
    {
     "data": {
      "image/png": "[encoded data removed]",
      "text/plain": [
       "<Figure size 640x480 with 1 Axes>"
      ]
     },
     "metadata": {},
     "output_type": "display_data"
    },
    {
     "data": {
      "image/png": "[encoded data removed]",
      "text/plain": [
       "<Figure size 640x480 with 1 Axes>"
      ]
     },
     "metadata": {},
     "output_type": "display_data"
    },
    {
     "data": {
      "image/png": "[encoded data removed]",
      "text/plain": [
       "<Figure size 640x480 with 1 Axes>"
      ]
     },
     "metadata": {},
     "output_type": "display_data"
    },
    {
     "data": {
      "image/png": "[encoded data removed]",
      "text/plain": [
       "<Figure size 640x480 with 1 Axes>"
      ]
     },
     "metadata": {},
     "output_type": "display_data"
    },
    {
     "data": {
      "image/png": "[encoded data removed]",
      "text/plain": [
       "<Figure size 640x480 with 1 Axes>"
      ]
     },
     "metadata": {},
     "output_type": "display_data"
    },
    {
     "data": {
      "image/png": "[encoded data removed]",
      "text/plain": [
       "<Figure size 640x480 with 1 Axes>"
      ]
     },
     "metadata": {},
     "output_type": "display_data"
    },
    {
     "data": {
      "image/png": "[encoded data removed]",
      "text/plain": [
       "<Figure size 640x480 with 1 Axes>"
      ]
     },
     "metadata": {},
     "output_type": "display_data"
    },
    {
     "data": {
      "image/png": "[encoded data removed]",
      "text/plain": [
       "<Figure size 640x480 with 1 Axes>"
      ]
     },
     "metadata": {},
     "output_type": "display_data"
    },
    {
     "data": {
      "image/png": "[encoded data removed]",
      "text/plain": [
       "<Figure size 640x480 with 1 Axes>"
      ]
     },
     "metadata": {},
     "output_type": "display_data"
    },
    {
     "data": {
      "image/png": "[encoded data removed]",
      "text/plain": [
       "<Figure size 640x480 with 1 Axes>"
      ]
     },
     "metadata": {},
     "output_type": "display_data"
    },
    {
     "data": {
      "image/png": "[encoded data removed]",
      "text/plain": [
       "<Figure size 640x480 with 1 Axes>"
      ]
     },
     "metadata": {},
     "output_type": "display_data"
    },
    {
     "data": {
      "image/png": "[encoded data removed]",
      "text/plain": [
       "<Figure size 640x480 with 1 Axes>"
      ]
     },
     "metadata": {},
     "output_type": "display_data"
    },
    {
     "data": {
      "image/png": "[encoded data removed]",
      "text/plain": [
       "<Figure size 640x480 with 1 Axes>"
      ]
     },
     "metadata": {},
     "output_type": "display_data"
    }
   ],
   "source": [
    "#Для количественных признаков построим круговые диаграммы plt.pie(...) на одном гарфике с помощью plt.subplots(...)).\n",
    "#Расчет value_counts() выполним промежуточно в цикле.\n",
    "for i in range(0, len(cat_cols)):\n",
    "    fig = plt.figure()\n",
    "    ax = fig.add_subplot(111)\n",
    "    ax.pie(data[cat_cols[i]].value_counts(), labels=data[cat_cols[i]].unique())    \n",
    "    ax.set_title(cat_cols[i])\n",
    "\n",
    "plt.show()"
   ]
  },
  {
   "cell_type": "code",
   "execution_count": 18,
   "metadata": {},
   "outputs": [
    {
     "data": {
      "text/plain": [
       "0    3898\n",
       "1    1384\n",
       "Name: Churn, dtype: int64"
      ]
     },
     "execution_count": 18,
     "metadata": {},
     "output_type": "execute_result"
    }
   ],
   "source": [
    "#Посмотрим на распределение целевой переменной. Стоит отметить, что классы являются несбалансированными.\n",
    "data[target_col].value_counts()"
   ]
  },
  {
   "cell_type": "markdown",
   "metadata": {
    "id": "zg60u3QDEEZH"
   },
   "source": [
    "(Дополнительно) Если вы нашли какие-то ошибки в данных или выбросы, то можете их убрать. Тут можно поэксперементировать с обработкой данных как угодно, но не за баллы."
   ]
  },
  {
   "cell_type": "code",
   "execution_count": 19,
   "metadata": {
    "id": "fwfksF1gEEZI"
   },
   "outputs": [],
   "source": [
    "# YOUR CODE\n",
    "#data['Sex'] = data['Sex'].replace('Male' , 0 , regex=True)\n",
    "#data['Sex'] = data['Sex'].replace('Female' , 1 , regex=True)\n",
    "#data['HasPartner'] = data['HasPartner'].replace('Yes' , 1 , regex=True)\n",
    "#data['HasPartner'] = data['HasPartner'].replace('No' , 0 , regex=True)\n",
    "#data['HasChild'] = data['HasChild'].replace('Yes' , 1 , regex=True)\n",
    "#data['HasChild'] = data['HasChild'].replace('No' , 0 , regex=True)\n",
    "#data['HasPhoneService'] = data['HasPhoneService'].replace('Yes' , 1 , regex=True)\n",
    "#data['HasPhoneService'] = data['HasPhoneService'].replace('No' , 0 , regex=True)\n",
    "#data['HasMultiplePhoneNumbers'] = data['HasMultiplePhoneNumbers'].replace('Yes' , 1 , regex=True)\n",
    "#data['HasMultiplePhoneNumbers'] = data['HasMultiplePhoneNumbers'].replace('No' , 0 , regex=True)\n",
    "#data['IsBillingPaperless'] = data['IsBillingPaperless'].replace('Yes' , 1 , regex=True)\n",
    "#data['IsBillingPaperless'] = data['IsBillingPaperless'].replace('No' , 0 , regex=True)"
   ]
  },
  {
   "cell_type": "markdown",
   "metadata": {
    "id": "DviiJd8REEZK"
   },
   "source": [
    "## Применение линейных моделей (3 балла)\n",
    "\n",
    "1) Обработайте данные для того, чтобы к ним можно было применить LogisticRegression. Т.е. отнормируйте числовые признаки, а категориальные закодируйте с помощью one-hot-encoding'а. \n",
    "\n",
    "2) С помощью кроссвалидации или разделения на train/valid выборку протестируйте разные значения гиперпараметра C и выберите лучший (можно тестировать С=100, 10, 1, 0.1, 0.01, 0.001) по метрике ROC-AUC. \n",
    "\n",
    "Если вы разделяете на train/valid, то используйте LogisticRegressionCV. Он сам при вызове .fit() подберет параметр С. (не забудьте передать scroing='roc_auc', чтобы при кроссвалидации сравнивались значения этой метрики, и refit=True, чтобы при потом модель обучилась на всем датасете с лучшим параметром C). \n",
    "\n",
    "\n",
    "(более сложный вариант) Если вы будете использовать кроссвалидацию, то преобразования данных и LogisticRegression нужно соединить в один Pipeline с помощью make_pipeline, как это делалось во втором семинаре. Потом pipeline надо передать в GridSearchCV. Для one-hot-encoding'a можно испльзовать комбинацию LabelEncoder + OneHotEncoder (сначала превращаем строчки в числа, а потом числа првращаем в one-hot вектора.)"
   ]
  },
  {
   "cell_type": "code",
   "execution_count": 20,
   "metadata": {
    "id": "xHCLDmwqEEZL"
   },
   "outputs": [],
   "source": [
    "from sklearn.linear_model import LogisticRegression, LogisticRegressionCV\n",
    "from sklearn.model_selection import train_test_split, GridSearchCV\n",
    "from sklearn.preprocessing import StandardScaler, RobustScaler, LabelEncoder, OneHotEncoder\n",
    "from sklearn.pipeline import make_pipeline"
   ]
  },
  {
   "cell_type": "code",
   "execution_count": 21,
   "metadata": {},
   "outputs": [
    {
     "name": "stdout",
     "output_type": "stream",
     "text": [
      "<class 'pandas.core.frame.DataFrame'>\n",
      "RangeIndex: 5282 entries, 0 to 5281\n",
      "Data columns (total 45 columns):\n",
      " #   Column                                        Non-Null Count  Dtype  \n",
      "---  ------                                        --------------  -----  \n",
      " 0   ClientPeriod                                  5282 non-null   float64\n",
      " 1   MonthlySpending                               5282 non-null   float64\n",
      " 2   TotalSpent                                    5282 non-null   float64\n",
      " 3   IsSeniorCitizen                               5282 non-null   int64  \n",
      " 4   Sex_Female                                    5282 non-null   uint8  \n",
      " 5   Sex_Male                                      5282 non-null   uint8  \n",
      " 6   HasPartner_No                                 5282 non-null   uint8  \n",
      " 7   HasPartner_Yes                                5282 non-null   uint8  \n",
      " 8   HasChild_No                                   5282 non-null   uint8  \n",
      " 9   HasChild_Yes                                  5282 non-null   uint8  \n",
      " 10  HasPhoneService_No                            5282 non-null   uint8  \n",
      " 11  HasPhoneService_Yes                           5282 non-null   uint8  \n",
      " 12  HasMultiplePhoneNumbers_No                    5282 non-null   uint8  \n",
      " 13  HasMultiplePhoneNumbers_No phone service      5282 non-null   uint8  \n",
      " 14  HasMultiplePhoneNumbers_Yes                   5282 non-null   uint8  \n",
      " 15  HasInternetService_DSL                        5282 non-null   uint8  \n",
      " 16  HasInternetService_Fiber optic                5282 non-null   uint8  \n",
      " 17  HasInternetService_No                         5282 non-null   uint8  \n",
      " 18  HasOnlineSecurityService_No                   5282 non-null   uint8  \n",
      " 19  HasOnlineSecurityService_No internet service  5282 non-null   uint8  \n",
      " 20  HasOnlineSecurityService_Yes                  5282 non-null   uint8  \n",
      " 21  HasOnlineBackup_No                            5282 non-null   uint8  \n",
      " 22  HasOnlineBackup_No internet service           5282 non-null   uint8  \n",
      " 23  HasOnlineBackup_Yes                           5282 non-null   uint8  \n",
      " 24  HasDeviceProtection_No                        5282 non-null   uint8  \n",
      " 25  HasDeviceProtection_No internet service       5282 non-null   uint8  \n",
      " 26  HasDeviceProtection_Yes                       5282 non-null   uint8  \n",
      " 27  HasTechSupportAccess_No                       5282 non-null   uint8  \n",
      " 28  HasTechSupportAccess_No internet service      5282 non-null   uint8  \n",
      " 29  HasTechSupportAccess_Yes                      5282 non-null   uint8  \n",
      " 30  HasOnlineTV_No                                5282 non-null   uint8  \n",
      " 31  HasOnlineTV_No internet service               5282 non-null   uint8  \n",
      " 32  HasOnlineTV_Yes                               5282 non-null   uint8  \n",
      " 33  HasMovieSubscription_No                       5282 non-null   uint8  \n",
      " 34  HasMovieSubscription_No internet service      5282 non-null   uint8  \n",
      " 35  HasMovieSubscription_Yes                      5282 non-null   uint8  \n",
      " 36  HasContractPhone_Month-to-month               5282 non-null   uint8  \n",
      " 37  HasContractPhone_One year                     5282 non-null   uint8  \n",
      " 38  HasContractPhone_Two year                     5282 non-null   uint8  \n",
      " 39  IsBillingPaperless_No                         5282 non-null   uint8  \n",
      " 40  IsBillingPaperless_Yes                        5282 non-null   uint8  \n",
      " 41  PaymentMethod_Bank transfer (automatic)       5282 non-null   uint8  \n",
      " 42  PaymentMethod_Credit card (automatic)         5282 non-null   uint8  \n",
      " 43  PaymentMethod_Electronic check                5282 non-null   uint8  \n",
      " 44  PaymentMethod_Mailed check                    5282 non-null   uint8  \n",
      "dtypes: float64(3), int64(1), uint8(41)\n",
      "memory usage: 376.7 KB\n"
     ]
    }
   ],
   "source": [
    "#Отнормируем числовые признаки, а категориальные закодируем с помощью one-hot-encoding'а.\n",
    "X = data.iloc[:, :-1]\n",
    "y = data[target_col]\n",
    "scaler = StandardScaler()\n",
    "X_scaled = scaler.fit_transform(X[num_cols])\n",
    "X_scaled = pd.DataFrame(X_scaled, columns=['ClientPeriod', 'MonthlySpending', 'TotalSpent'])\n",
    "X_dummy_features = pd.get_dummies(X[cat_cols])\n",
    "X_new = X_scaled.merge(X_dummy_features, left_index = True, right_index = True, how = 'left')\n",
    "X_new.info()"
   ]
  },
  {
   "cell_type": "code",
   "execution_count": 22,
   "metadata": {},
   "outputs": [],
   "source": [
    "#Разделим train на части test/train для кросс-валидации.\n",
    "X_train, X_test, y_train, y_test = train_test_split(X_new, y, \n",
    "                                                    train_size=0.7,\n",
    "                                                    random_state=42)"
   ]
  },
  {
   "cell_type": "code",
   "execution_count": 23,
   "metadata": {},
   "outputs": [
    {
     "data": {
      "text/plain": [
       "LogisticRegressionCV(cv=5, random_state=42, scoring='roc_auc')"
      ]
     },
     "execution_count": 23,
     "metadata": {},
     "output_type": "execute_result"
    }
   ],
   "source": [
    "#С помощью LogisticRegressionCV подберем параметр С.\n",
    "logit_searcher = LogisticRegressionCV(cv=5, refit=True, scoring='roc_auc', random_state=42)\n",
    "logit_searcher.fit(X_train, y_train)"
   ]
  },
  {
   "cell_type": "code",
   "execution_count": 24,
   "metadata": {},
   "outputs": [
    {
     "data": {
      "text/plain": [
       "1291.5496650148827"
      ]
     },
     "execution_count": 24,
     "metadata": {},
     "output_type": "execute_result"
    }
   ],
   "source": [
    "C = logit_searcher.C_\n",
    "C[0]"
   ]
  },
  {
   "cell_type": "code",
   "execution_count": 25,
   "metadata": {},
   "outputs": [],
   "source": [
    "#Обучим модель логистической регрессии:\n",
    "clf = LogisticRegression(C=C[0],random_state=42).fit(X_train, y_train)\n",
    "y_predict = clf.predict(X_test)"
   ]
  },
  {
   "cell_type": "code",
   "execution_count": 26,
   "metadata": {},
   "outputs": [
    {
     "data": {
      "text/plain": [
       "0.6983035159568398"
      ]
     },
     "execution_count": 26,
     "metadata": {},
     "output_type": "execute_result"
    }
   ],
   "source": [
    "from sklearn.metrics import roc_auc_score\n",
    "roc_auc_score(y_test, y_predict)"
   ]
  },
  {
   "cell_type": "markdown",
   "metadata": {
    "id": "uVahy6JKEEZQ"
   },
   "source": [
    "Выпишите какое лучшее качество и с какими параметрами вам удалось получить"
   ]
  },
  {
   "cell_type": "markdown",
   "metadata": {
    "id": "36729TOQEEZR"
   },
   "source": [
    "0.6983035159568398"
   ]
  },
  {
   "cell_type": "markdown",
   "metadata": {
    "id": "BlTeVy7fEEZR"
   },
   "source": [
    "## Применение градиентного бустинга (2 балла)\n",
    "\n",
    "Если вы хотите получить баллы за точный ответ, то стоит попробовать градиентный бустинг. Часто градиентный бустинг с параметрами по умолчанию даст вам 80% результата за 0% усилий.\n",
    "\n",
    "Мы будем использовать catboost, поэтому нам не надо кодировать категориальные признаки. Catboost сделает это сам (в .fit() надо передать cat_features=cat_cols). А численные признаки нормировать для моделей, основанных на деревьях не нужно.\n",
    "\n",
    "1) Разделите выборку на train/valid. Протестируйте catboost cо стандартными параметрами.\n",
    "\n",
    "2) Протестируйте разные занчения параметроа количества деревьев и learning_rate'а и выберите лучшую по метрике ROC-AUC комбинацию. \n",
    "\n",
    "(Дополнительно) Есть некоторые сложности с тем, чтобы использовать CatBoostClassifier вместе с GridSearchCV, поэтому мы не просим использовать кроссвалидацию. Но можете попробовать)"
   ]
  },
  {
   "cell_type": "code",
   "execution_count": 27,
   "metadata": {
    "id": "Fioxxlp-EEZS"
   },
   "outputs": [],
   "source": [
    "# YOUR CODE\n",
    "from catboost import CatBoostClassifier"
   ]
  },
  {
   "cell_type": "code",
   "execution_count": 28,
   "metadata": {},
   "outputs": [],
   "source": [
    "#Создадим модель catboost.\n",
    "ctb = CatBoostClassifier(random_seed=42, learning_rate=0.01, leaf_estimation_iterations=5,\n",
    "    max_ctr_complexity=1)"
   ]
  },
  {
   "cell_type": "code",
   "execution_count": 29,
   "metadata": {},
   "outputs": [],
   "source": [
    "data = pd.read_csv('./train.csv')\n",
    "X = data.iloc[:, :-1]\n",
    "y = data[target_col]"
   ]
  },
  {
   "cell_type": "code",
   "execution_count": 30,
   "metadata": {},
   "outputs": [],
   "source": [
    "X_train, X_test, y_train, y_test = train_test_split(X, y, \n",
    "                                                    train_size=0.7,\n",
    "                                                    stratify=y,\n",
    "                                                    random_state=42)"
   ]
  },
  {
   "cell_type": "code",
   "execution_count": 31,
   "metadata": {},
   "outputs": [],
   "source": [
    "#Передадим в модель категориальные признаки, которые нужно закодировать.\n",
    "cat_features_idx = np.where(X_train.dtypes == \"object\")[0].tolist()"
   ]
  },
  {
   "cell_type": "code",
   "execution_count": 32,
   "metadata": {},
   "outputs": [
    {
     "name": "stdout",
     "output_type": "stream",
     "text": [
      "0:\tlearn: 0.6862714\ttotal: 208ms\tremaining: 3m 27s\n",
      "1:\tlearn: 0.6794484\ttotal: 257ms\tremaining: 2m 8s\n",
      "2:\tlearn: 0.6727562\ttotal: 303ms\tremaining: 1m 40s\n",
      "3:\tlearn: 0.6668034\ttotal: 353ms\tremaining: 1m 27s\n",
      "4:\tlearn: 0.6606839\ttotal: 400ms\tremaining: 1m 19s\n",
      "5:\tlearn: 0.6545438\ttotal: 460ms\tremaining: 1m 16s\n",
      "6:\tlearn: 0.6490069\ttotal: 529ms\tremaining: 1m 15s\n",
      "7:\tlearn: 0.6431724\ttotal: 587ms\tremaining: 1m 12s\n",
      "8:\tlearn: 0.6380112\ttotal: 634ms\tremaining: 1m 9s\n",
      "9:\tlearn: 0.6325072\ttotal: 683ms\tremaining: 1m 7s\n",
      "10:\tlearn: 0.6278290\ttotal: 719ms\tremaining: 1m 4s\n",
      "11:\tlearn: 0.6227628\ttotal: 775ms\tremaining: 1m 3s\n",
      "12:\tlearn: 0.6178316\ttotal: 832ms\tremaining: 1m 3s\n",
      "13:\tlearn: 0.6127495\ttotal: 891ms\tremaining: 1m 2s\n",
      "14:\tlearn: 0.6082152\ttotal: 942ms\tremaining: 1m 1s\n",
      "15:\tlearn: 0.6040080\ttotal: 1.01s\tremaining: 1m 2s\n",
      "16:\tlearn: 0.6006566\ttotal: 1.06s\tremaining: 1m 1s\n",
      "17:\tlearn: 0.5962305\ttotal: 1.13s\tremaining: 1m 1s\n",
      "18:\tlearn: 0.5919897\ttotal: 1.18s\tremaining: 1m\n",
      "19:\tlearn: 0.5881486\ttotal: 1.21s\tremaining: 59.5s\n",
      "20:\tlearn: 0.5841828\ttotal: 1.27s\tremaining: 59.3s\n",
      "21:\tlearn: 0.5799726\ttotal: 1.32s\tremaining: 58.6s\n",
      "22:\tlearn: 0.5758519\ttotal: 1.38s\tremaining: 58.5s\n",
      "23:\tlearn: 0.5730247\ttotal: 1.4s\tremaining: 57s\n",
      "24:\tlearn: 0.5694432\ttotal: 1.45s\tremaining: 56.4s\n",
      "25:\tlearn: 0.5663295\ttotal: 1.47s\tremaining: 55.1s\n",
      "26:\tlearn: 0.5627852\ttotal: 1.51s\tremaining: 54.6s\n",
      "27:\tlearn: 0.5591912\ttotal: 1.6s\tremaining: 55.6s\n",
      "28:\tlearn: 0.5561792\ttotal: 1.66s\tremaining: 55.5s\n",
      "29:\tlearn: 0.5534248\ttotal: 1.7s\tremaining: 55s\n",
      "30:\tlearn: 0.5502287\ttotal: 1.74s\tremaining: 54.4s\n",
      "31:\tlearn: 0.5471796\ttotal: 1.8s\tremaining: 54.5s\n",
      "32:\tlearn: 0.5440440\ttotal: 1.85s\tremaining: 54.3s\n",
      "33:\tlearn: 0.5412609\ttotal: 1.92s\tremaining: 54.7s\n",
      "34:\tlearn: 0.5387920\ttotal: 1.98s\tremaining: 54.5s\n",
      "35:\tlearn: 0.5360938\ttotal: 2.05s\tremaining: 54.8s\n",
      "36:\tlearn: 0.5331961\ttotal: 2.1s\tremaining: 54.6s\n",
      "37:\tlearn: 0.5307498\ttotal: 2.14s\tremaining: 54.1s\n",
      "38:\tlearn: 0.5284022\ttotal: 2.17s\tremaining: 53.4s\n",
      "39:\tlearn: 0.5257960\ttotal: 2.22s\tremaining: 53.2s\n",
      "40:\tlearn: 0.5231522\ttotal: 2.27s\tremaining: 53s\n",
      "41:\tlearn: 0.5211213\ttotal: 2.31s\tremaining: 52.6s\n",
      "42:\tlearn: 0.5187493\ttotal: 2.38s\tremaining: 53s\n",
      "43:\tlearn: 0.5165932\ttotal: 2.45s\tremaining: 53.3s\n",
      "44:\tlearn: 0.5147501\ttotal: 2.49s\tremaining: 52.8s\n",
      "45:\tlearn: 0.5132828\ttotal: 2.52s\tremaining: 52.3s\n",
      "46:\tlearn: 0.5110595\ttotal: 2.57s\tremaining: 52.2s\n",
      "47:\tlearn: 0.5087311\ttotal: 2.64s\tremaining: 52.3s\n",
      "48:\tlearn: 0.5065050\ttotal: 2.69s\tremaining: 52.3s\n",
      "49:\tlearn: 0.5045520\ttotal: 2.75s\tremaining: 52.3s\n",
      "50:\tlearn: 0.5024714\ttotal: 2.84s\tremaining: 52.9s\n",
      "51:\tlearn: 0.5010447\ttotal: 2.87s\tremaining: 52.3s\n",
      "52:\tlearn: 0.4990518\ttotal: 2.92s\tremaining: 52.1s\n",
      "53:\tlearn: 0.4971398\ttotal: 2.97s\tremaining: 52s\n",
      "54:\tlearn: 0.4952666\ttotal: 3.02s\tremaining: 51.9s\n",
      "55:\tlearn: 0.4932527\ttotal: 3.09s\tremaining: 52.1s\n",
      "56:\tlearn: 0.4913507\ttotal: 3.14s\tremaining: 51.9s\n",
      "57:\tlearn: 0.4897344\ttotal: 3.21s\tremaining: 52.1s\n",
      "58:\tlearn: 0.4880077\ttotal: 3.25s\tremaining: 51.9s\n",
      "59:\tlearn: 0.4869177\ttotal: 3.29s\tremaining: 51.5s\n",
      "60:\tlearn: 0.4854061\ttotal: 3.34s\tremaining: 51.4s\n",
      "61:\tlearn: 0.4837536\ttotal: 3.38s\tremaining: 51.2s\n",
      "62:\tlearn: 0.4820340\ttotal: 3.44s\tremaining: 51.2s\n",
      "63:\tlearn: 0.4805434\ttotal: 3.49s\tremaining: 51.1s\n",
      "64:\tlearn: 0.4791083\ttotal: 3.54s\tremaining: 50.9s\n",
      "65:\tlearn: 0.4778453\ttotal: 3.59s\tremaining: 50.8s\n",
      "66:\tlearn: 0.4764116\ttotal: 3.64s\tremaining: 50.7s\n",
      "67:\tlearn: 0.4750874\ttotal: 3.69s\tremaining: 50.5s\n",
      "68:\tlearn: 0.4738809\ttotal: 3.73s\tremaining: 50.4s\n",
      "69:\tlearn: 0.4727299\ttotal: 3.79s\tremaining: 50.3s\n",
      "70:\tlearn: 0.4714651\ttotal: 3.85s\tremaining: 50.3s\n",
      "71:\tlearn: 0.4702672\ttotal: 3.89s\tremaining: 50.2s\n",
      "72:\tlearn: 0.4688551\ttotal: 3.94s\tremaining: 50s\n",
      "73:\tlearn: 0.4676678\ttotal: 4.01s\tremaining: 50.2s\n",
      "74:\tlearn: 0.4665687\ttotal: 4.06s\tremaining: 50s\n",
      "75:\tlearn: 0.4654812\ttotal: 4.11s\tremaining: 49.9s\n",
      "76:\tlearn: 0.4644883\ttotal: 4.15s\tremaining: 49.8s\n",
      "77:\tlearn: 0.4634480\ttotal: 4.2s\tremaining: 49.7s\n",
      "78:\tlearn: 0.4624664\ttotal: 4.26s\tremaining: 49.7s\n",
      "79:\tlearn: 0.4614955\ttotal: 4.31s\tremaining: 49.5s\n",
      "80:\tlearn: 0.4605411\ttotal: 4.35s\tremaining: 49.4s\n",
      "81:\tlearn: 0.4597191\ttotal: 4.39s\tremaining: 49.1s\n",
      "82:\tlearn: 0.4586711\ttotal: 4.43s\tremaining: 49s\n",
      "83:\tlearn: 0.4576415\ttotal: 4.48s\tremaining: 48.9s\n",
      "84:\tlearn: 0.4567517\ttotal: 4.54s\tremaining: 48.8s\n",
      "85:\tlearn: 0.4560134\ttotal: 4.58s\tremaining: 48.6s\n",
      "86:\tlearn: 0.4551149\ttotal: 4.62s\tremaining: 48.5s\n",
      "87:\tlearn: 0.4541077\ttotal: 4.68s\tremaining: 48.5s\n",
      "88:\tlearn: 0.4534035\ttotal: 4.74s\tremaining: 48.5s\n",
      "89:\tlearn: 0.4525238\ttotal: 4.79s\tremaining: 48.4s\n",
      "90:\tlearn: 0.4516886\ttotal: 4.85s\tremaining: 48.5s\n",
      "91:\tlearn: 0.4509699\ttotal: 4.9s\tremaining: 48.4s\n",
      "92:\tlearn: 0.4502792\ttotal: 4.95s\tremaining: 48.3s\n",
      "93:\tlearn: 0.4495254\ttotal: 5s\tremaining: 48.2s\n",
      "94:\tlearn: 0.4487506\ttotal: 5.06s\tremaining: 48.2s\n",
      "95:\tlearn: 0.4480332\ttotal: 5.11s\tremaining: 48.1s\n",
      "96:\tlearn: 0.4473185\ttotal: 5.16s\tremaining: 48s\n",
      "97:\tlearn: 0.4465630\ttotal: 5.2s\tremaining: 47.9s\n",
      "98:\tlearn: 0.4457955\ttotal: 5.25s\tremaining: 47.8s\n",
      "99:\tlearn: 0.4450237\ttotal: 5.3s\tremaining: 47.7s\n",
      "100:\tlearn: 0.4443219\ttotal: 5.35s\tremaining: 47.7s\n",
      "101:\tlearn: 0.4436688\ttotal: 5.41s\tremaining: 47.6s\n",
      "102:\tlearn: 0.4431598\ttotal: 5.45s\tremaining: 47.5s\n",
      "103:\tlearn: 0.4424890\ttotal: 5.53s\tremaining: 47.6s\n",
      "104:\tlearn: 0.4417885\ttotal: 5.57s\tremaining: 47.5s\n",
      "105:\tlearn: 0.4411005\ttotal: 5.63s\tremaining: 47.5s\n",
      "106:\tlearn: 0.4403382\ttotal: 5.68s\tremaining: 47.4s\n",
      "107:\tlearn: 0.4397560\ttotal: 5.74s\tremaining: 47.4s\n",
      "108:\tlearn: 0.4392224\ttotal: 5.78s\tremaining: 47.3s\n",
      "109:\tlearn: 0.4388597\ttotal: 5.81s\tremaining: 47s\n",
      "110:\tlearn: 0.4382698\ttotal: 5.87s\tremaining: 47s\n",
      "111:\tlearn: 0.4376086\ttotal: 5.94s\tremaining: 47.1s\n",
      "112:\tlearn: 0.4370260\ttotal: 5.98s\tremaining: 46.9s\n",
      "113:\tlearn: 0.4363827\ttotal: 6.03s\tremaining: 46.8s\n",
      "114:\tlearn: 0.4359312\ttotal: 6.09s\tremaining: 46.8s\n",
      "115:\tlearn: 0.4353356\ttotal: 6.14s\tremaining: 46.8s\n",
      "116:\tlearn: 0.4350866\ttotal: 6.17s\tremaining: 46.6s\n",
      "117:\tlearn: 0.4346163\ttotal: 6.22s\tremaining: 46.5s\n",
      "118:\tlearn: 0.4341747\ttotal: 6.28s\tremaining: 46.5s\n",
      "119:\tlearn: 0.4336270\ttotal: 6.34s\tremaining: 46.5s\n",
      "120:\tlearn: 0.4330656\ttotal: 6.4s\tremaining: 46.5s\n",
      "121:\tlearn: 0.4325755\ttotal: 6.46s\tremaining: 46.5s\n",
      "122:\tlearn: 0.4320777\ttotal: 6.51s\tremaining: 46.4s\n",
      "123:\tlearn: 0.4315039\ttotal: 6.56s\tremaining: 46.3s\n",
      "124:\tlearn: 0.4309083\ttotal: 6.62s\tremaining: 46.3s\n",
      "125:\tlearn: 0.4303272\ttotal: 6.66s\tremaining: 46.2s\n",
      "126:\tlearn: 0.4299195\ttotal: 6.71s\tremaining: 46.1s\n",
      "127:\tlearn: 0.4294896\ttotal: 6.76s\tremaining: 46.1s\n",
      "128:\tlearn: 0.4289696\ttotal: 6.83s\tremaining: 46.1s\n",
      "129:\tlearn: 0.4285778\ttotal: 6.87s\tremaining: 46s\n",
      "130:\tlearn: 0.4281608\ttotal: 6.93s\tremaining: 46s\n",
      "131:\tlearn: 0.4277327\ttotal: 6.99s\tremaining: 46s\n",
      "132:\tlearn: 0.4273588\ttotal: 7.04s\tremaining: 45.9s\n",
      "133:\tlearn: 0.4269441\ttotal: 7.08s\tremaining: 45.8s\n",
      "134:\tlearn: 0.4267951\ttotal: 7.12s\tremaining: 45.6s\n",
      "135:\tlearn: 0.4263931\ttotal: 7.18s\tremaining: 45.6s\n",
      "136:\tlearn: 0.4259861\ttotal: 7.22s\tremaining: 45.5s\n",
      "137:\tlearn: 0.4255845\ttotal: 7.27s\tremaining: 45.4s\n",
      "138:\tlearn: 0.4251388\ttotal: 7.32s\tremaining: 45.3s\n",
      "139:\tlearn: 0.4247273\ttotal: 7.36s\tremaining: 45.2s\n",
      "140:\tlearn: 0.4244171\ttotal: 7.42s\tremaining: 45.2s\n",
      "141:\tlearn: 0.4240030\ttotal: 7.47s\tremaining: 45.1s\n",
      "142:\tlearn: 0.4236717\ttotal: 7.53s\tremaining: 45.1s\n",
      "143:\tlearn: 0.4235181\ttotal: 7.56s\tremaining: 44.9s\n",
      "144:\tlearn: 0.4231089\ttotal: 7.61s\tremaining: 44.9s\n",
      "145:\tlearn: 0.4227899\ttotal: 7.66s\tremaining: 44.8s\n",
      "146:\tlearn: 0.4224286\ttotal: 7.72s\tremaining: 44.8s\n",
      "147:\tlearn: 0.4220914\ttotal: 7.76s\tremaining: 44.7s\n",
      "148:\tlearn: 0.4217518\ttotal: 7.81s\tremaining: 44.6s\n",
      "149:\tlearn: 0.4214997\ttotal: 7.85s\tremaining: 44.5s\n",
      "150:\tlearn: 0.4211502\ttotal: 7.91s\tremaining: 44.5s\n",
      "151:\tlearn: 0.4207644\ttotal: 7.97s\tremaining: 44.4s\n",
      "152:\tlearn: 0.4204036\ttotal: 8.03s\tremaining: 44.5s\n",
      "153:\tlearn: 0.4200510\ttotal: 8.08s\tremaining: 44.4s\n",
      "154:\tlearn: 0.4197548\ttotal: 8.12s\tremaining: 44.3s\n",
      "155:\tlearn: 0.4194089\ttotal: 8.17s\tremaining: 44.2s\n",
      "156:\tlearn: 0.4191186\ttotal: 8.22s\tremaining: 44.1s\n",
      "157:\tlearn: 0.4188064\ttotal: 8.28s\tremaining: 44.1s\n",
      "158:\tlearn: 0.4185771\ttotal: 8.33s\tremaining: 44.1s\n",
      "159:\tlearn: 0.4182397\ttotal: 8.38s\tremaining: 44s\n",
      "160:\tlearn: 0.4181584\ttotal: 8.39s\tremaining: 43.7s\n"
     ]
    },
    {
     "name": "stdout",
     "output_type": "stream",
     "text": [
      "161:\tlearn: 0.4178630\ttotal: 8.44s\tremaining: 43.6s\n",
      "162:\tlearn: 0.4175619\ttotal: 8.51s\tremaining: 43.7s\n",
      "163:\tlearn: 0.4172883\ttotal: 8.55s\tremaining: 43.6s\n",
      "164:\tlearn: 0.4171980\ttotal: 8.59s\tremaining: 43.5s\n",
      "165:\tlearn: 0.4168857\ttotal: 8.65s\tremaining: 43.4s\n",
      "166:\tlearn: 0.4165494\ttotal: 8.69s\tremaining: 43.4s\n",
      "167:\tlearn: 0.4163675\ttotal: 8.78s\tremaining: 43.5s\n",
      "168:\tlearn: 0.4161395\ttotal: 8.83s\tremaining: 43.4s\n",
      "169:\tlearn: 0.4157259\ttotal: 8.88s\tremaining: 43.4s\n",
      "170:\tlearn: 0.4153846\ttotal: 8.94s\tremaining: 43.4s\n",
      "171:\tlearn: 0.4151351\ttotal: 9.03s\tremaining: 43.5s\n",
      "172:\tlearn: 0.4148754\ttotal: 9.11s\tremaining: 43.6s\n",
      "173:\tlearn: 0.4145058\ttotal: 9.18s\tremaining: 43.6s\n",
      "174:\tlearn: 0.4142931\ttotal: 9.25s\tremaining: 43.6s\n",
      "175:\tlearn: 0.4142047\ttotal: 9.28s\tremaining: 43.4s\n",
      "176:\tlearn: 0.4140916\ttotal: 9.32s\tremaining: 43.3s\n",
      "177:\tlearn: 0.4138776\ttotal: 9.37s\tremaining: 43.3s\n",
      "178:\tlearn: 0.4136168\ttotal: 9.43s\tremaining: 43.2s\n",
      "179:\tlearn: 0.4134071\ttotal: 9.48s\tremaining: 43.2s\n",
      "180:\tlearn: 0.4131309\ttotal: 9.55s\tremaining: 43.2s\n",
      "181:\tlearn: 0.4127990\ttotal: 9.62s\tremaining: 43.2s\n",
      "182:\tlearn: 0.4126245\ttotal: 9.68s\tremaining: 43.2s\n",
      "183:\tlearn: 0.4125182\ttotal: 9.76s\tremaining: 43.3s\n",
      "184:\tlearn: 0.4122438\ttotal: 9.83s\tremaining: 43.3s\n",
      "185:\tlearn: 0.4120168\ttotal: 9.91s\tremaining: 43.4s\n",
      "186:\tlearn: 0.4117917\ttotal: 9.99s\tremaining: 43.5s\n",
      "187:\tlearn: 0.4115248\ttotal: 10.1s\tremaining: 43.5s\n",
      "188:\tlearn: 0.4112249\ttotal: 10.1s\tremaining: 43.5s\n",
      "189:\tlearn: 0.4109631\ttotal: 10.2s\tremaining: 43.5s\n",
      "190:\tlearn: 0.4107741\ttotal: 10.3s\tremaining: 43.5s\n",
      "191:\tlearn: 0.4104891\ttotal: 10.3s\tremaining: 43.5s\n",
      "192:\tlearn: 0.4102661\ttotal: 10.4s\tremaining: 43.5s\n",
      "193:\tlearn: 0.4100681\ttotal: 10.5s\tremaining: 43.5s\n",
      "194:\tlearn: 0.4098117\ttotal: 10.5s\tremaining: 43.5s\n",
      "195:\tlearn: 0.4096302\ttotal: 10.6s\tremaining: 43.5s\n",
      "196:\tlearn: 0.4093485\ttotal: 10.7s\tremaining: 43.5s\n",
      "197:\tlearn: 0.4091959\ttotal: 10.7s\tremaining: 43.5s\n",
      "198:\tlearn: 0.4088978\ttotal: 10.8s\tremaining: 43.5s\n",
      "199:\tlearn: 0.4086958\ttotal: 10.9s\tremaining: 43.5s\n",
      "200:\tlearn: 0.4085108\ttotal: 10.9s\tremaining: 43.5s\n",
      "201:\tlearn: 0.4082695\ttotal: 11s\tremaining: 43.4s\n",
      "202:\tlearn: 0.4079825\ttotal: 11.1s\tremaining: 43.4s\n",
      "203:\tlearn: 0.4079431\ttotal: 11.1s\tremaining: 43.3s\n",
      "204:\tlearn: 0.4076441\ttotal: 11.2s\tremaining: 43.2s\n",
      "205:\tlearn: 0.4075881\ttotal: 11.2s\tremaining: 43s\n",
      "206:\tlearn: 0.4074003\ttotal: 11.2s\tremaining: 43s\n",
      "207:\tlearn: 0.4071280\ttotal: 11.3s\tremaining: 42.9s\n",
      "208:\tlearn: 0.4070832\ttotal: 11.3s\tremaining: 42.7s\n",
      "209:\tlearn: 0.4069220\ttotal: 11.3s\tremaining: 42.6s\n",
      "210:\tlearn: 0.4067717\ttotal: 11.4s\tremaining: 42.5s\n",
      "211:\tlearn: 0.4066076\ttotal: 11.4s\tremaining: 42.5s\n",
      "212:\tlearn: 0.4063800\ttotal: 11.5s\tremaining: 42.4s\n",
      "213:\tlearn: 0.4062836\ttotal: 11.5s\tremaining: 42.4s\n",
      "214:\tlearn: 0.4061072\ttotal: 11.6s\tremaining: 42.3s\n",
      "215:\tlearn: 0.4060709\ttotal: 11.6s\tremaining: 42.2s\n",
      "216:\tlearn: 0.4059255\ttotal: 11.7s\tremaining: 42.1s\n",
      "217:\tlearn: 0.4058052\ttotal: 11.7s\tremaining: 42.1s\n",
      "218:\tlearn: 0.4056666\ttotal: 11.8s\tremaining: 42s\n",
      "219:\tlearn: 0.4056243\ttotal: 11.8s\tremaining: 41.9s\n",
      "220:\tlearn: 0.4054670\ttotal: 11.9s\tremaining: 41.9s\n",
      "221:\tlearn: 0.4054305\ttotal: 11.9s\tremaining: 41.7s\n",
      "222:\tlearn: 0.4053783\ttotal: 12s\tremaining: 41.7s\n",
      "223:\tlearn: 0.4051665\ttotal: 12s\tremaining: 41.6s\n",
      "224:\tlearn: 0.4051309\ttotal: 12s\tremaining: 41.5s\n",
      "225:\tlearn: 0.4050844\ttotal: 12.1s\tremaining: 41.3s\n",
      "226:\tlearn: 0.4049399\ttotal: 12.1s\tremaining: 41.3s\n",
      "227:\tlearn: 0.4048886\ttotal: 12.2s\tremaining: 41.3s\n",
      "228:\tlearn: 0.4047205\ttotal: 12.3s\tremaining: 41.3s\n",
      "229:\tlearn: 0.4046196\ttotal: 12.3s\tremaining: 41.3s\n",
      "230:\tlearn: 0.4045756\ttotal: 12.4s\tremaining: 41.2s\n",
      "231:\tlearn: 0.4043869\ttotal: 12.4s\tremaining: 41.2s\n",
      "232:\tlearn: 0.4041988\ttotal: 12.5s\tremaining: 41.2s\n",
      "233:\tlearn: 0.4040395\ttotal: 12.6s\tremaining: 41.2s\n",
      "234:\tlearn: 0.4039462\ttotal: 12.6s\tremaining: 41.2s\n",
      "235:\tlearn: 0.4038610\ttotal: 12.7s\tremaining: 41.1s\n",
      "236:\tlearn: 0.4036468\ttotal: 12.8s\tremaining: 41.1s\n",
      "237:\tlearn: 0.4034764\ttotal: 12.8s\tremaining: 41.1s\n",
      "238:\tlearn: 0.4034147\ttotal: 12.9s\tremaining: 41.1s\n",
      "239:\tlearn: 0.4032754\ttotal: 13s\tremaining: 41.1s\n",
      "240:\tlearn: 0.4031252\ttotal: 13s\tremaining: 41.1s\n",
      "241:\tlearn: 0.4030404\ttotal: 13.1s\tremaining: 41.1s\n",
      "242:\tlearn: 0.4029777\ttotal: 13.2s\tremaining: 41s\n",
      "243:\tlearn: 0.4029488\ttotal: 13.2s\tremaining: 40.9s\n",
      "244:\tlearn: 0.4028037\ttotal: 13.3s\tremaining: 41s\n",
      "245:\tlearn: 0.4027323\ttotal: 13.3s\tremaining: 40.9s\n",
      "246:\tlearn: 0.4026329\ttotal: 13.4s\tremaining: 40.8s\n",
      "247:\tlearn: 0.4024007\ttotal: 13.5s\tremaining: 41.1s\n",
      "248:\tlearn: 0.4022889\ttotal: 13.6s\tremaining: 41.1s\n",
      "249:\tlearn: 0.4021812\ttotal: 13.7s\tremaining: 41.1s\n",
      "250:\tlearn: 0.4020934\ttotal: 13.7s\tremaining: 41s\n",
      "251:\tlearn: 0.4019258\ttotal: 13.8s\tremaining: 41s\n",
      "252:\tlearn: 0.4018891\ttotal: 13.9s\tremaining: 41s\n",
      "253:\tlearn: 0.4017804\ttotal: 14s\tremaining: 41s\n",
      "254:\tlearn: 0.4015789\ttotal: 14s\tremaining: 40.9s\n",
      "255:\tlearn: 0.4014651\ttotal: 14.1s\tremaining: 40.9s\n",
      "256:\tlearn: 0.4012685\ttotal: 14.1s\tremaining: 40.8s\n",
      "257:\tlearn: 0.4011520\ttotal: 14.2s\tremaining: 40.7s\n",
      "258:\tlearn: 0.4010691\ttotal: 14.2s\tremaining: 40.7s\n",
      "259:\tlearn: 0.4008534\ttotal: 14.3s\tremaining: 40.7s\n",
      "260:\tlearn: 0.4007177\ttotal: 14.4s\tremaining: 40.7s\n",
      "261:\tlearn: 0.4004999\ttotal: 14.4s\tremaining: 40.7s\n",
      "262:\tlearn: 0.4004512\ttotal: 14.5s\tremaining: 40.6s\n",
      "263:\tlearn: 0.4003886\ttotal: 14.5s\tremaining: 40.5s\n",
      "264:\tlearn: 0.4002801\ttotal: 14.6s\tremaining: 40.5s\n",
      "265:\tlearn: 0.4002304\ttotal: 14.7s\tremaining: 40.4s\n",
      "266:\tlearn: 0.4001459\ttotal: 14.7s\tremaining: 40.4s\n",
      "267:\tlearn: 0.4001415\ttotal: 14.7s\tremaining: 40.3s\n",
      "268:\tlearn: 0.4000495\ttotal: 14.8s\tremaining: 40.2s\n",
      "269:\tlearn: 0.3999379\ttotal: 14.9s\tremaining: 40.2s\n",
      "270:\tlearn: 0.3996723\ttotal: 14.9s\tremaining: 40.2s\n",
      "271:\tlearn: 0.3996548\ttotal: 15s\tremaining: 40.1s\n",
      "272:\tlearn: 0.3995400\ttotal: 15.1s\tremaining: 40.1s\n",
      "273:\tlearn: 0.3994372\ttotal: 15.1s\tremaining: 40.1s\n",
      "274:\tlearn: 0.3992682\ttotal: 15.2s\tremaining: 40.1s\n",
      "275:\tlearn: 0.3991807\ttotal: 15.3s\tremaining: 40.1s\n",
      "276:\tlearn: 0.3990435\ttotal: 15.3s\tremaining: 40s\n",
      "277:\tlearn: 0.3990203\ttotal: 15.3s\tremaining: 39.9s\n",
      "278:\tlearn: 0.3989191\ttotal: 15.4s\tremaining: 39.8s\n",
      "279:\tlearn: 0.3988775\ttotal: 15.4s\tremaining: 39.7s\n",
      "280:\tlearn: 0.3987675\ttotal: 15.5s\tremaining: 39.6s\n",
      "281:\tlearn: 0.3987600\ttotal: 15.5s\tremaining: 39.5s\n",
      "282:\tlearn: 0.3986154\ttotal: 15.6s\tremaining: 39.5s\n",
      "283:\tlearn: 0.3984089\ttotal: 15.6s\tremaining: 39.4s\n",
      "284:\tlearn: 0.3982808\ttotal: 15.7s\tremaining: 39.4s\n",
      "285:\tlearn: 0.3982473\ttotal: 15.7s\tremaining: 39.3s\n",
      "286:\tlearn: 0.3982281\ttotal: 15.8s\tremaining: 39.2s\n",
      "287:\tlearn: 0.3981146\ttotal: 15.8s\tremaining: 39.1s\n",
      "288:\tlearn: 0.3979392\ttotal: 15.9s\tremaining: 39.1s\n",
      "289:\tlearn: 0.3978342\ttotal: 15.9s\tremaining: 39s\n",
      "290:\tlearn: 0.3977380\ttotal: 16s\tremaining: 39s\n",
      "291:\tlearn: 0.3976278\ttotal: 16.1s\tremaining: 39s\n",
      "292:\tlearn: 0.3975628\ttotal: 16.1s\tremaining: 38.9s\n",
      "293:\tlearn: 0.3975232\ttotal: 16.2s\tremaining: 38.9s\n",
      "294:\tlearn: 0.3973781\ttotal: 16.3s\tremaining: 38.9s\n",
      "295:\tlearn: 0.3973575\ttotal: 16.3s\tremaining: 38.8s\n",
      "296:\tlearn: 0.3971912\ttotal: 16.4s\tremaining: 38.8s\n",
      "297:\tlearn: 0.3970616\ttotal: 16.4s\tremaining: 38.7s\n",
      "298:\tlearn: 0.3969978\ttotal: 16.5s\tremaining: 38.7s\n",
      "299:\tlearn: 0.3968264\ttotal: 16.5s\tremaining: 38.6s\n",
      "300:\tlearn: 0.3967586\ttotal: 16.6s\tremaining: 38.5s\n",
      "301:\tlearn: 0.3967440\ttotal: 16.7s\tremaining: 38.5s\n",
      "302:\tlearn: 0.3966176\ttotal: 16.8s\tremaining: 38.6s\n",
      "303:\tlearn: 0.3965007\ttotal: 16.9s\tremaining: 38.6s\n",
      "304:\tlearn: 0.3964804\ttotal: 16.9s\tremaining: 38.5s\n",
      "305:\tlearn: 0.3963198\ttotal: 17s\tremaining: 38.5s\n",
      "306:\tlearn: 0.3960984\ttotal: 17s\tremaining: 38.5s\n",
      "307:\tlearn: 0.3959953\ttotal: 17.1s\tremaining: 38.5s\n",
      "308:\tlearn: 0.3959628\ttotal: 17.2s\tremaining: 38.4s\n",
      "309:\tlearn: 0.3958110\ttotal: 17.3s\tremaining: 38.4s\n",
      "310:\tlearn: 0.3956458\ttotal: 17.3s\tremaining: 38.4s\n",
      "311:\tlearn: 0.3955166\ttotal: 17.4s\tremaining: 38.4s\n",
      "312:\tlearn: 0.3955160\ttotal: 17.4s\tremaining: 38.2s\n",
      "313:\tlearn: 0.3954392\ttotal: 17.5s\tremaining: 38.2s\n",
      "314:\tlearn: 0.3952508\ttotal: 17.6s\tremaining: 38.2s\n",
      "315:\tlearn: 0.3951824\ttotal: 17.7s\tremaining: 38.2s\n",
      "316:\tlearn: 0.3951295\ttotal: 17.7s\tremaining: 38.2s\n",
      "317:\tlearn: 0.3950445\ttotal: 17.8s\tremaining: 38.1s\n",
      "318:\tlearn: 0.3949337\ttotal: 17.9s\tremaining: 38.1s\n",
      "319:\tlearn: 0.3948812\ttotal: 17.9s\tremaining: 38.1s\n",
      "320:\tlearn: 0.3947146\ttotal: 18s\tremaining: 38.1s\n"
     ]
    },
    {
     "name": "stdout",
     "output_type": "stream",
     "text": [
      "321:\tlearn: 0.3945600\ttotal: 18.1s\tremaining: 38.1s\n",
      "322:\tlearn: 0.3945375\ttotal: 18.1s\tremaining: 38s\n",
      "323:\tlearn: 0.3944769\ttotal: 18.2s\tremaining: 38s\n",
      "324:\tlearn: 0.3944716\ttotal: 18.2s\tremaining: 37.9s\n",
      "325:\tlearn: 0.3944441\ttotal: 18.3s\tremaining: 37.9s\n",
      "326:\tlearn: 0.3943741\ttotal: 18.4s\tremaining: 37.8s\n",
      "327:\tlearn: 0.3943586\ttotal: 18.4s\tremaining: 37.7s\n",
      "328:\tlearn: 0.3941802\ttotal: 18.5s\tremaining: 37.7s\n",
      "329:\tlearn: 0.3940983\ttotal: 18.6s\tremaining: 37.7s\n",
      "330:\tlearn: 0.3939424\ttotal: 18.6s\tremaining: 37.7s\n",
      "331:\tlearn: 0.3938989\ttotal: 18.7s\tremaining: 37.7s\n",
      "332:\tlearn: 0.3938142\ttotal: 18.8s\tremaining: 37.6s\n",
      "333:\tlearn: 0.3937084\ttotal: 18.9s\tremaining: 37.6s\n",
      "334:\tlearn: 0.3936579\ttotal: 18.9s\tremaining: 37.6s\n",
      "335:\tlearn: 0.3935934\ttotal: 19s\tremaining: 37.6s\n",
      "336:\tlearn: 0.3934698\ttotal: 19.1s\tremaining: 37.6s\n",
      "337:\tlearn: 0.3934009\ttotal: 19.2s\tremaining: 37.5s\n",
      "338:\tlearn: 0.3933039\ttotal: 19.2s\tremaining: 37.5s\n",
      "339:\tlearn: 0.3932306\ttotal: 19.3s\tremaining: 37.4s\n",
      "340:\tlearn: 0.3930934\ttotal: 19.3s\tremaining: 37.3s\n",
      "341:\tlearn: 0.3930857\ttotal: 19.3s\tremaining: 37.2s\n",
      "342:\tlearn: 0.3930173\ttotal: 19.4s\tremaining: 37.1s\n",
      "343:\tlearn: 0.3928824\ttotal: 19.4s\tremaining: 37.1s\n",
      "344:\tlearn: 0.3927613\ttotal: 19.5s\tremaining: 37s\n",
      "345:\tlearn: 0.3926876\ttotal: 19.6s\tremaining: 37s\n",
      "346:\tlearn: 0.3926802\ttotal: 19.6s\tremaining: 36.9s\n",
      "347:\tlearn: 0.3925623\ttotal: 19.7s\tremaining: 36.8s\n",
      "348:\tlearn: 0.3925579\ttotal: 19.7s\tremaining: 36.8s\n",
      "349:\tlearn: 0.3924402\ttotal: 19.8s\tremaining: 36.7s\n",
      "350:\tlearn: 0.3923408\ttotal: 19.9s\tremaining: 36.7s\n",
      "351:\tlearn: 0.3922561\ttotal: 19.9s\tremaining: 36.7s\n",
      "352:\tlearn: 0.3922251\ttotal: 20s\tremaining: 36.6s\n",
      "353:\tlearn: 0.3921889\ttotal: 20s\tremaining: 36.6s\n",
      "354:\tlearn: 0.3920824\ttotal: 20.1s\tremaining: 36.6s\n",
      "355:\tlearn: 0.3920226\ttotal: 20.2s\tremaining: 36.5s\n",
      "356:\tlearn: 0.3919480\ttotal: 20.3s\tremaining: 36.5s\n",
      "357:\tlearn: 0.3918755\ttotal: 20.3s\tremaining: 36.5s\n",
      "358:\tlearn: 0.3918187\ttotal: 20.4s\tremaining: 36.4s\n",
      "359:\tlearn: 0.3917974\ttotal: 20.5s\tremaining: 36.4s\n",
      "360:\tlearn: 0.3916698\ttotal: 20.5s\tremaining: 36.3s\n",
      "361:\tlearn: 0.3916530\ttotal: 20.5s\tremaining: 36.2s\n",
      "362:\tlearn: 0.3915799\ttotal: 20.6s\tremaining: 36.1s\n",
      "363:\tlearn: 0.3915289\ttotal: 20.6s\tremaining: 36s\n",
      "364:\tlearn: 0.3913807\ttotal: 20.7s\tremaining: 36s\n",
      "365:\tlearn: 0.3913027\ttotal: 20.8s\tremaining: 36s\n",
      "366:\tlearn: 0.3911307\ttotal: 20.8s\tremaining: 35.9s\n",
      "367:\tlearn: 0.3911306\ttotal: 20.9s\tremaining: 35.8s\n",
      "368:\tlearn: 0.3910639\ttotal: 20.9s\tremaining: 35.8s\n",
      "369:\tlearn: 0.3910111\ttotal: 21s\tremaining: 35.7s\n",
      "370:\tlearn: 0.3910076\ttotal: 21s\tremaining: 35.6s\n",
      "371:\tlearn: 0.3909125\ttotal: 21.1s\tremaining: 35.6s\n",
      "372:\tlearn: 0.3908834\ttotal: 21.1s\tremaining: 35.5s\n",
      "373:\tlearn: 0.3908301\ttotal: 21.1s\tremaining: 35.4s\n",
      "374:\tlearn: 0.3907479\ttotal: 21.2s\tremaining: 35.3s\n",
      "375:\tlearn: 0.3906743\ttotal: 21.3s\tremaining: 35.3s\n",
      "376:\tlearn: 0.3906573\ttotal: 21.3s\tremaining: 35.2s\n",
      "377:\tlearn: 0.3905772\ttotal: 21.4s\tremaining: 35.2s\n",
      "378:\tlearn: 0.3905532\ttotal: 21.4s\tremaining: 35.1s\n",
      "379:\tlearn: 0.3904549\ttotal: 21.5s\tremaining: 35.1s\n",
      "380:\tlearn: 0.3904295\ttotal: 21.5s\tremaining: 35s\n",
      "381:\tlearn: 0.3903958\ttotal: 21.6s\tremaining: 35s\n",
      "382:\tlearn: 0.3903312\ttotal: 21.7s\tremaining: 34.9s\n",
      "383:\tlearn: 0.3902346\ttotal: 21.8s\tremaining: 34.9s\n",
      "384:\tlearn: 0.3901683\ttotal: 21.9s\tremaining: 34.9s\n",
      "385:\tlearn: 0.3900976\ttotal: 21.9s\tremaining: 34.9s\n",
      "386:\tlearn: 0.3900083\ttotal: 22s\tremaining: 34.9s\n",
      "387:\tlearn: 0.3899533\ttotal: 22.1s\tremaining: 34.8s\n",
      "388:\tlearn: 0.3898580\ttotal: 22.1s\tremaining: 34.8s\n",
      "389:\tlearn: 0.3898547\ttotal: 22.2s\tremaining: 34.7s\n",
      "390:\tlearn: 0.3898416\ttotal: 22.2s\tremaining: 34.6s\n",
      "391:\tlearn: 0.3897331\ttotal: 22.3s\tremaining: 34.5s\n",
      "392:\tlearn: 0.3896823\ttotal: 22.3s\tremaining: 34.5s\n",
      "393:\tlearn: 0.3896349\ttotal: 22.4s\tremaining: 34.4s\n",
      "394:\tlearn: 0.3895394\ttotal: 22.5s\tremaining: 34.4s\n",
      "395:\tlearn: 0.3894957\ttotal: 22.5s\tremaining: 34.3s\n",
      "396:\tlearn: 0.3894284\ttotal: 22.6s\tremaining: 34.3s\n",
      "397:\tlearn: 0.3893669\ttotal: 22.7s\tremaining: 34.3s\n",
      "398:\tlearn: 0.3892713\ttotal: 22.7s\tremaining: 34.2s\n",
      "399:\tlearn: 0.3892144\ttotal: 22.8s\tremaining: 34.2s\n",
      "400:\tlearn: 0.3892124\ttotal: 22.8s\tremaining: 34.1s\n",
      "401:\tlearn: 0.3892123\ttotal: 22.8s\tremaining: 34s\n",
      "402:\tlearn: 0.3892120\ttotal: 22.8s\tremaining: 33.8s\n",
      "403:\tlearn: 0.3891146\ttotal: 22.9s\tremaining: 33.8s\n",
      "404:\tlearn: 0.3890416\ttotal: 23s\tremaining: 33.7s\n",
      "405:\tlearn: 0.3890294\ttotal: 23s\tremaining: 33.6s\n",
      "406:\tlearn: 0.3890018\ttotal: 23s\tremaining: 33.6s\n",
      "407:\tlearn: 0.3889839\ttotal: 23.1s\tremaining: 33.5s\n",
      "408:\tlearn: 0.3889569\ttotal: 23.1s\tremaining: 33.4s\n",
      "409:\tlearn: 0.3888915\ttotal: 23.2s\tremaining: 33.4s\n",
      "410:\tlearn: 0.3888510\ttotal: 23.2s\tremaining: 33.3s\n",
      "411:\tlearn: 0.3888157\ttotal: 23.3s\tremaining: 33.2s\n",
      "412:\tlearn: 0.3888094\ttotal: 23.3s\tremaining: 33.2s\n",
      "413:\tlearn: 0.3887933\ttotal: 23.4s\tremaining: 33.1s\n",
      "414:\tlearn: 0.3887022\ttotal: 23.4s\tremaining: 33s\n",
      "415:\tlearn: 0.3886641\ttotal: 23.5s\tremaining: 33s\n",
      "416:\tlearn: 0.3886150\ttotal: 23.5s\tremaining: 32.9s\n",
      "417:\tlearn: 0.3885261\ttotal: 23.6s\tremaining: 32.8s\n",
      "418:\tlearn: 0.3884746\ttotal: 23.6s\tremaining: 32.8s\n",
      "419:\tlearn: 0.3884639\ttotal: 23.7s\tremaining: 32.7s\n",
      "420:\tlearn: 0.3884345\ttotal: 23.7s\tremaining: 32.7s\n",
      "421:\tlearn: 0.3882654\ttotal: 23.8s\tremaining: 32.6s\n",
      "422:\tlearn: 0.3882345\ttotal: 23.9s\tremaining: 32.6s\n",
      "423:\tlearn: 0.3882168\ttotal: 23.9s\tremaining: 32.5s\n",
      "424:\tlearn: 0.3880632\ttotal: 24s\tremaining: 32.4s\n",
      "425:\tlearn: 0.3880255\ttotal: 24s\tremaining: 32.4s\n",
      "426:\tlearn: 0.3879849\ttotal: 24.1s\tremaining: 32.3s\n",
      "427:\tlearn: 0.3879393\ttotal: 24.1s\tremaining: 32.2s\n",
      "428:\tlearn: 0.3878800\ttotal: 24.2s\tremaining: 32.2s\n",
      "429:\tlearn: 0.3877816\ttotal: 24.2s\tremaining: 32.1s\n",
      "430:\tlearn: 0.3877711\ttotal: 24.3s\tremaining: 32s\n",
      "431:\tlearn: 0.3877362\ttotal: 24.3s\tremaining: 32s\n",
      "432:\tlearn: 0.3875989\ttotal: 24.4s\tremaining: 31.9s\n",
      "433:\tlearn: 0.3875107\ttotal: 24.5s\tremaining: 31.9s\n",
      "434:\tlearn: 0.3874435\ttotal: 24.5s\tremaining: 31.9s\n",
      "435:\tlearn: 0.3874174\ttotal: 24.6s\tremaining: 31.8s\n",
      "436:\tlearn: 0.3873932\ttotal: 24.6s\tremaining: 31.8s\n",
      "437:\tlearn: 0.3873492\ttotal: 24.7s\tremaining: 31.7s\n",
      "438:\tlearn: 0.3873207\ttotal: 24.8s\tremaining: 31.6s\n",
      "439:\tlearn: 0.3872465\ttotal: 24.8s\tremaining: 31.6s\n",
      "440:\tlearn: 0.3872216\ttotal: 24.9s\tremaining: 31.5s\n",
      "441:\tlearn: 0.3871621\ttotal: 24.9s\tremaining: 31.4s\n",
      "442:\tlearn: 0.3871181\ttotal: 25s\tremaining: 31.4s\n",
      "443:\tlearn: 0.3869765\ttotal: 25s\tremaining: 31.3s\n",
      "444:\tlearn: 0.3868938\ttotal: 25.1s\tremaining: 31.3s\n",
      "445:\tlearn: 0.3868742\ttotal: 25.2s\tremaining: 31.3s\n",
      "446:\tlearn: 0.3868300\ttotal: 25.2s\tremaining: 31.2s\n",
      "447:\tlearn: 0.3868038\ttotal: 25.3s\tremaining: 31.2s\n",
      "448:\tlearn: 0.3867576\ttotal: 25.3s\tremaining: 31.1s\n",
      "449:\tlearn: 0.3867410\ttotal: 25.4s\tremaining: 31.1s\n",
      "450:\tlearn: 0.3867266\ttotal: 25.5s\tremaining: 31s\n",
      "451:\tlearn: 0.3866999\ttotal: 25.5s\tremaining: 31s\n",
      "452:\tlearn: 0.3866673\ttotal: 25.6s\tremaining: 30.9s\n",
      "453:\tlearn: 0.3866518\ttotal: 25.7s\tremaining: 30.9s\n",
      "454:\tlearn: 0.3866073\ttotal: 25.7s\tremaining: 30.8s\n",
      "455:\tlearn: 0.3865763\ttotal: 25.8s\tremaining: 30.8s\n",
      "456:\tlearn: 0.3865436\ttotal: 25.9s\tremaining: 30.7s\n",
      "457:\tlearn: 0.3865308\ttotal: 25.9s\tremaining: 30.7s\n",
      "458:\tlearn: 0.3864757\ttotal: 26s\tremaining: 30.6s\n",
      "459:\tlearn: 0.3863301\ttotal: 26s\tremaining: 30.6s\n",
      "460:\tlearn: 0.3862547\ttotal: 26.1s\tremaining: 30.5s\n",
      "461:\tlearn: 0.3862284\ttotal: 26.1s\tremaining: 30.4s\n",
      "462:\tlearn: 0.3862052\ttotal: 26.2s\tremaining: 30.4s\n",
      "463:\tlearn: 0.3860751\ttotal: 26.2s\tremaining: 30.3s\n",
      "464:\tlearn: 0.3859791\ttotal: 26.3s\tremaining: 30.3s\n",
      "465:\tlearn: 0.3859089\ttotal: 26.4s\tremaining: 30.2s\n",
      "466:\tlearn: 0.3858884\ttotal: 26.5s\tremaining: 30.2s\n",
      "467:\tlearn: 0.3858727\ttotal: 26.5s\tremaining: 30.1s\n",
      "468:\tlearn: 0.3858209\ttotal: 26.6s\tremaining: 30.1s\n",
      "469:\tlearn: 0.3858151\ttotal: 26.6s\tremaining: 30s\n",
      "470:\tlearn: 0.3858001\ttotal: 26.7s\tremaining: 30s\n",
      "471:\tlearn: 0.3857652\ttotal: 26.8s\tremaining: 29.9s\n",
      "472:\tlearn: 0.3857478\ttotal: 26.8s\tremaining: 29.9s\n",
      "473:\tlearn: 0.3856921\ttotal: 26.9s\tremaining: 29.9s\n",
      "474:\tlearn: 0.3856429\ttotal: 27s\tremaining: 29.8s\n",
      "475:\tlearn: 0.3856415\ttotal: 27s\tremaining: 29.7s\n",
      "476:\tlearn: 0.3856414\ttotal: 27s\tremaining: 29.6s\n",
      "477:\tlearn: 0.3856216\ttotal: 27.1s\tremaining: 29.6s\n",
      "478:\tlearn: 0.3855751\ttotal: 27.2s\tremaining: 29.6s\n",
      "479:\tlearn: 0.3855136\ttotal: 27.3s\tremaining: 29.5s\n",
      "480:\tlearn: 0.3855009\ttotal: 27.3s\tremaining: 29.5s\n"
     ]
    },
    {
     "name": "stdout",
     "output_type": "stream",
     "text": [
      "481:\tlearn: 0.3854753\ttotal: 27.4s\tremaining: 29.4s\n",
      "482:\tlearn: 0.3854597\ttotal: 27.5s\tremaining: 29.4s\n",
      "483:\tlearn: 0.3854136\ttotal: 27.6s\tremaining: 29.4s\n",
      "484:\tlearn: 0.3853757\ttotal: 27.7s\tremaining: 29.4s\n",
      "485:\tlearn: 0.3853747\ttotal: 27.8s\tremaining: 29.4s\n",
      "486:\tlearn: 0.3852506\ttotal: 27.9s\tremaining: 29.4s\n",
      "487:\tlearn: 0.3851756\ttotal: 28s\tremaining: 29.4s\n",
      "488:\tlearn: 0.3851712\ttotal: 28s\tremaining: 29.3s\n",
      "489:\tlearn: 0.3851567\ttotal: 28.1s\tremaining: 29.2s\n",
      "490:\tlearn: 0.3851361\ttotal: 28.2s\tremaining: 29.2s\n",
      "491:\tlearn: 0.3850605\ttotal: 28.2s\tremaining: 29.1s\n",
      "492:\tlearn: 0.3850188\ttotal: 28.3s\tremaining: 29.1s\n",
      "493:\tlearn: 0.3850154\ttotal: 28.3s\tremaining: 29s\n",
      "494:\tlearn: 0.3849792\ttotal: 28.4s\tremaining: 29s\n",
      "495:\tlearn: 0.3849433\ttotal: 28.4s\tremaining: 28.9s\n",
      "496:\tlearn: 0.3849273\ttotal: 28.5s\tremaining: 28.8s\n",
      "497:\tlearn: 0.3848971\ttotal: 28.6s\tremaining: 28.8s\n",
      "498:\tlearn: 0.3848612\ttotal: 28.6s\tremaining: 28.7s\n",
      "499:\tlearn: 0.3848605\ttotal: 28.6s\tremaining: 28.6s\n",
      "500:\tlearn: 0.3848463\ttotal: 28.7s\tremaining: 28.6s\n",
      "501:\tlearn: 0.3848074\ttotal: 28.8s\tremaining: 28.5s\n",
      "502:\tlearn: 0.3846804\ttotal: 28.8s\tremaining: 28.5s\n",
      "503:\tlearn: 0.3846797\ttotal: 28.8s\tremaining: 28.4s\n",
      "504:\tlearn: 0.3846690\ttotal: 28.9s\tremaining: 28.3s\n",
      "505:\tlearn: 0.3846399\ttotal: 28.9s\tremaining: 28.2s\n",
      "506:\tlearn: 0.3846309\ttotal: 29s\tremaining: 28.2s\n",
      "507:\tlearn: 0.3845167\ttotal: 29s\tremaining: 28.1s\n",
      "508:\tlearn: 0.3843997\ttotal: 29.1s\tremaining: 28s\n",
      "509:\tlearn: 0.3843533\ttotal: 29.1s\tremaining: 28s\n",
      "510:\tlearn: 0.3842028\ttotal: 29.2s\tremaining: 27.9s\n",
      "511:\tlearn: 0.3841412\ttotal: 29.2s\tremaining: 27.8s\n",
      "512:\tlearn: 0.3841035\ttotal: 29.3s\tremaining: 27.8s\n",
      "513:\tlearn: 0.3840550\ttotal: 29.3s\tremaining: 27.7s\n",
      "514:\tlearn: 0.3840469\ttotal: 29.4s\tremaining: 27.6s\n",
      "515:\tlearn: 0.3840462\ttotal: 29.4s\tremaining: 27.6s\n",
      "516:\tlearn: 0.3840042\ttotal: 29.4s\tremaining: 27.5s\n",
      "517:\tlearn: 0.3839880\ttotal: 29.5s\tremaining: 27.4s\n",
      "518:\tlearn: 0.3839779\ttotal: 29.5s\tremaining: 27.4s\n",
      "519:\tlearn: 0.3838704\ttotal: 29.6s\tremaining: 27.3s\n",
      "520:\tlearn: 0.3838034\ttotal: 29.6s\tremaining: 27.2s\n",
      "521:\tlearn: 0.3837872\ttotal: 29.7s\tremaining: 27.2s\n",
      "522:\tlearn: 0.3837798\ttotal: 29.7s\tremaining: 27.1s\n",
      "523:\tlearn: 0.3837798\ttotal: 29.7s\tremaining: 27s\n",
      "524:\tlearn: 0.3837418\ttotal: 29.8s\tremaining: 26.9s\n",
      "525:\tlearn: 0.3836648\ttotal: 29.8s\tremaining: 26.9s\n",
      "526:\tlearn: 0.3836348\ttotal: 29.9s\tremaining: 26.8s\n",
      "527:\tlearn: 0.3836266\ttotal: 29.9s\tremaining: 26.8s\n",
      "528:\tlearn: 0.3835478\ttotal: 30s\tremaining: 26.7s\n",
      "529:\tlearn: 0.3834892\ttotal: 30.1s\tremaining: 26.7s\n",
      "530:\tlearn: 0.3834021\ttotal: 30.1s\tremaining: 26.6s\n",
      "531:\tlearn: 0.3833684\ttotal: 30.2s\tremaining: 26.5s\n",
      "532:\tlearn: 0.3832693\ttotal: 30.2s\tremaining: 26.5s\n",
      "533:\tlearn: 0.3832420\ttotal: 30.3s\tremaining: 26.4s\n",
      "534:\tlearn: 0.3831943\ttotal: 30.3s\tremaining: 26.4s\n",
      "535:\tlearn: 0.3831910\ttotal: 30.4s\tremaining: 26.3s\n",
      "536:\tlearn: 0.3831611\ttotal: 30.4s\tremaining: 26.2s\n",
      "537:\tlearn: 0.3831400\ttotal: 30.4s\tremaining: 26.1s\n",
      "538:\tlearn: 0.3830342\ttotal: 30.5s\tremaining: 26.1s\n",
      "539:\tlearn: 0.3830183\ttotal: 30.6s\tremaining: 26s\n",
      "540:\tlearn: 0.3829567\ttotal: 30.6s\tremaining: 26s\n",
      "541:\tlearn: 0.3828715\ttotal: 30.7s\tremaining: 25.9s\n",
      "542:\tlearn: 0.3828235\ttotal: 30.7s\tremaining: 25.9s\n",
      "543:\tlearn: 0.3827605\ttotal: 30.8s\tremaining: 25.8s\n",
      "544:\tlearn: 0.3827605\ttotal: 30.8s\tremaining: 25.7s\n",
      "545:\tlearn: 0.3827566\ttotal: 30.9s\tremaining: 25.7s\n",
      "546:\tlearn: 0.3827221\ttotal: 30.9s\tremaining: 25.6s\n",
      "547:\tlearn: 0.3827166\ttotal: 31s\tremaining: 25.5s\n",
      "548:\tlearn: 0.3826539\ttotal: 31s\tremaining: 25.5s\n",
      "549:\tlearn: 0.3826022\ttotal: 31.1s\tremaining: 25.4s\n",
      "550:\tlearn: 0.3825848\ttotal: 31.1s\tremaining: 25.4s\n",
      "551:\tlearn: 0.3825412\ttotal: 31.2s\tremaining: 25.3s\n",
      "552:\tlearn: 0.3824730\ttotal: 31.3s\tremaining: 25.3s\n",
      "553:\tlearn: 0.3824179\ttotal: 31.4s\tremaining: 25.3s\n",
      "554:\tlearn: 0.3824098\ttotal: 31.4s\tremaining: 25.2s\n",
      "555:\tlearn: 0.3823942\ttotal: 31.5s\tremaining: 25.2s\n",
      "556:\tlearn: 0.3823942\ttotal: 31.5s\tremaining: 25.1s\n",
      "557:\tlearn: 0.3823058\ttotal: 31.6s\tremaining: 25s\n",
      "558:\tlearn: 0.3822789\ttotal: 31.7s\tremaining: 25s\n",
      "559:\tlearn: 0.3822222\ttotal: 31.7s\tremaining: 24.9s\n",
      "560:\tlearn: 0.3821613\ttotal: 31.8s\tremaining: 24.9s\n",
      "561:\tlearn: 0.3821107\ttotal: 31.8s\tremaining: 24.8s\n",
      "562:\tlearn: 0.3820698\ttotal: 31.9s\tremaining: 24.7s\n",
      "563:\tlearn: 0.3820694\ttotal: 31.9s\tremaining: 24.7s\n",
      "564:\tlearn: 0.3820495\ttotal: 31.9s\tremaining: 24.6s\n",
      "565:\tlearn: 0.3820055\ttotal: 32s\tremaining: 24.5s\n",
      "566:\tlearn: 0.3819379\ttotal: 32.1s\tremaining: 24.5s\n",
      "567:\tlearn: 0.3819308\ttotal: 32.1s\tremaining: 24.4s\n",
      "568:\tlearn: 0.3819186\ttotal: 32.2s\tremaining: 24.4s\n",
      "569:\tlearn: 0.3818297\ttotal: 32.3s\tremaining: 24.4s\n",
      "570:\tlearn: 0.3818282\ttotal: 32.3s\tremaining: 24.3s\n",
      "571:\tlearn: 0.3817835\ttotal: 32.4s\tremaining: 24.3s\n",
      "572:\tlearn: 0.3817717\ttotal: 32.4s\tremaining: 24.2s\n",
      "573:\tlearn: 0.3817471\ttotal: 32.5s\tremaining: 24.1s\n",
      "574:\tlearn: 0.3817437\ttotal: 32.5s\tremaining: 24s\n",
      "575:\tlearn: 0.3817170\ttotal: 32.6s\tremaining: 24s\n",
      "576:\tlearn: 0.3816967\ttotal: 32.7s\tremaining: 23.9s\n",
      "577:\tlearn: 0.3816258\ttotal: 32.8s\tremaining: 23.9s\n",
      "578:\tlearn: 0.3815827\ttotal: 32.8s\tremaining: 23.9s\n",
      "579:\tlearn: 0.3815598\ttotal: 32.9s\tremaining: 23.8s\n",
      "580:\tlearn: 0.3815598\ttotal: 32.9s\tremaining: 23.7s\n",
      "581:\tlearn: 0.3815286\ttotal: 33s\tremaining: 23.7s\n",
      "582:\tlearn: 0.3815261\ttotal: 33s\tremaining: 23.6s\n",
      "583:\tlearn: 0.3815258\ttotal: 33s\tremaining: 23.5s\n",
      "584:\tlearn: 0.3815027\ttotal: 33.1s\tremaining: 23.5s\n",
      "585:\tlearn: 0.3815023\ttotal: 33.1s\tremaining: 23.4s\n",
      "586:\tlearn: 0.3814152\ttotal: 33.2s\tremaining: 23.3s\n",
      "587:\tlearn: 0.3813747\ttotal: 33.2s\tremaining: 23.3s\n",
      "588:\tlearn: 0.3812888\ttotal: 33.3s\tremaining: 23.2s\n",
      "589:\tlearn: 0.3812799\ttotal: 33.3s\tremaining: 23.2s\n",
      "590:\tlearn: 0.3812335\ttotal: 33.4s\tremaining: 23.1s\n",
      "591:\tlearn: 0.3812140\ttotal: 33.4s\tremaining: 23s\n",
      "592:\tlearn: 0.3811741\ttotal: 33.5s\tremaining: 23s\n",
      "593:\tlearn: 0.3811233\ttotal: 33.5s\tremaining: 22.9s\n",
      "594:\tlearn: 0.3810921\ttotal: 33.6s\tremaining: 22.8s\n",
      "595:\tlearn: 0.3810687\ttotal: 33.6s\tremaining: 22.8s\n",
      "596:\tlearn: 0.3810465\ttotal: 33.7s\tremaining: 22.7s\n",
      "597:\tlearn: 0.3810051\ttotal: 33.8s\tremaining: 22.7s\n",
      "598:\tlearn: 0.3809398\ttotal: 33.8s\tremaining: 22.6s\n",
      "599:\tlearn: 0.3808753\ttotal: 33.9s\tremaining: 22.6s\n",
      "600:\tlearn: 0.3808542\ttotal: 34s\tremaining: 22.6s\n",
      "601:\tlearn: 0.3808173\ttotal: 34.1s\tremaining: 22.5s\n",
      "602:\tlearn: 0.3808061\ttotal: 34.1s\tremaining: 22.5s\n",
      "603:\tlearn: 0.3807303\ttotal: 34.2s\tremaining: 22.4s\n",
      "604:\tlearn: 0.3806375\ttotal: 34.2s\tremaining: 22.4s\n",
      "605:\tlearn: 0.3805511\ttotal: 34.3s\tremaining: 22.3s\n",
      "606:\tlearn: 0.3804026\ttotal: 34.3s\tremaining: 22.2s\n",
      "607:\tlearn: 0.3802663\ttotal: 34.4s\tremaining: 22.2s\n",
      "608:\tlearn: 0.3802022\ttotal: 34.4s\tremaining: 22.1s\n",
      "609:\tlearn: 0.3801680\ttotal: 34.5s\tremaining: 22.1s\n",
      "610:\tlearn: 0.3801347\ttotal: 34.5s\tremaining: 22s\n",
      "611:\tlearn: 0.3800164\ttotal: 34.6s\tremaining: 21.9s\n",
      "612:\tlearn: 0.3800118\ttotal: 34.6s\tremaining: 21.9s\n",
      "613:\tlearn: 0.3798920\ttotal: 34.7s\tremaining: 21.8s\n",
      "614:\tlearn: 0.3798881\ttotal: 34.8s\tremaining: 21.8s\n",
      "615:\tlearn: 0.3798774\ttotal: 34.8s\tremaining: 21.7s\n",
      "616:\tlearn: 0.3798769\ttotal: 34.8s\tremaining: 21.6s\n",
      "617:\tlearn: 0.3798654\ttotal: 34.9s\tremaining: 21.6s\n",
      "618:\tlearn: 0.3798592\ttotal: 34.9s\tremaining: 21.5s\n",
      "619:\tlearn: 0.3798491\ttotal: 35s\tremaining: 21.5s\n",
      "620:\tlearn: 0.3798491\ttotal: 35s\tremaining: 21.4s\n",
      "621:\tlearn: 0.3798476\ttotal: 35.1s\tremaining: 21.3s\n",
      "622:\tlearn: 0.3798169\ttotal: 35.1s\tremaining: 21.2s\n",
      "623:\tlearn: 0.3797913\ttotal: 35.2s\tremaining: 21.2s\n",
      "624:\tlearn: 0.3796762\ttotal: 35.2s\tremaining: 21.1s\n",
      "625:\tlearn: 0.3796719\ttotal: 35.2s\tremaining: 21s\n",
      "626:\tlearn: 0.3796505\ttotal: 35.3s\tremaining: 21s\n",
      "627:\tlearn: 0.3795819\ttotal: 35.3s\tremaining: 20.9s\n",
      "628:\tlearn: 0.3795658\ttotal: 35.4s\tremaining: 20.9s\n",
      "629:\tlearn: 0.3795175\ttotal: 35.4s\tremaining: 20.8s\n",
      "630:\tlearn: 0.3794722\ttotal: 35.5s\tremaining: 20.7s\n",
      "631:\tlearn: 0.3794442\ttotal: 35.5s\tremaining: 20.7s\n",
      "632:\tlearn: 0.3794403\ttotal: 35.6s\tremaining: 20.6s\n",
      "633:\tlearn: 0.3794400\ttotal: 35.6s\tremaining: 20.6s\n",
      "634:\tlearn: 0.3793312\ttotal: 35.7s\tremaining: 20.5s\n",
      "635:\tlearn: 0.3793312\ttotal: 35.7s\tremaining: 20.4s\n",
      "636:\tlearn: 0.3793248\ttotal: 35.7s\tremaining: 20.4s\n",
      "637:\tlearn: 0.3793207\ttotal: 35.8s\tremaining: 20.3s\n",
      "638:\tlearn: 0.3793026\ttotal: 35.8s\tremaining: 20.3s\n",
      "639:\tlearn: 0.3792649\ttotal: 35.9s\tremaining: 20.2s\n",
      "640:\tlearn: 0.3792647\ttotal: 35.9s\tremaining: 20.1s\n"
     ]
    },
    {
     "name": "stdout",
     "output_type": "stream",
     "text": [
      "641:\tlearn: 0.3792189\ttotal: 36s\tremaining: 20.1s\n",
      "642:\tlearn: 0.3791686\ttotal: 36s\tremaining: 20s\n",
      "643:\tlearn: 0.3790737\ttotal: 36.1s\tremaining: 20s\n",
      "644:\tlearn: 0.3790687\ttotal: 36.1s\tremaining: 19.9s\n",
      "645:\tlearn: 0.3790483\ttotal: 36.2s\tremaining: 19.8s\n",
      "646:\tlearn: 0.3790416\ttotal: 36.2s\tremaining: 19.8s\n",
      "647:\tlearn: 0.3789724\ttotal: 36.3s\tremaining: 19.7s\n",
      "648:\tlearn: 0.3788991\ttotal: 36.3s\tremaining: 19.6s\n",
      "649:\tlearn: 0.3788449\ttotal: 36.4s\tremaining: 19.6s\n",
      "650:\tlearn: 0.3787893\ttotal: 36.4s\tremaining: 19.5s\n",
      "651:\tlearn: 0.3786854\ttotal: 36.5s\tremaining: 19.5s\n",
      "652:\tlearn: 0.3786434\ttotal: 36.6s\tremaining: 19.4s\n",
      "653:\tlearn: 0.3786111\ttotal: 36.6s\tremaining: 19.4s\n",
      "654:\tlearn: 0.3786111\ttotal: 36.6s\tremaining: 19.3s\n",
      "655:\tlearn: 0.3785980\ttotal: 36.7s\tremaining: 19.2s\n",
      "656:\tlearn: 0.3785113\ttotal: 36.8s\tremaining: 19.2s\n",
      "657:\tlearn: 0.3784861\ttotal: 36.8s\tremaining: 19.1s\n",
      "658:\tlearn: 0.3784447\ttotal: 36.9s\tremaining: 19.1s\n",
      "659:\tlearn: 0.3784303\ttotal: 36.9s\tremaining: 19s\n",
      "660:\tlearn: 0.3783848\ttotal: 37s\tremaining: 19s\n",
      "661:\tlearn: 0.3783611\ttotal: 37s\tremaining: 18.9s\n",
      "662:\tlearn: 0.3782971\ttotal: 37.1s\tremaining: 18.9s\n",
      "663:\tlearn: 0.3782901\ttotal: 37.1s\tremaining: 18.8s\n",
      "664:\tlearn: 0.3782494\ttotal: 37.2s\tremaining: 18.7s\n",
      "665:\tlearn: 0.3782473\ttotal: 37.2s\tremaining: 18.7s\n",
      "666:\tlearn: 0.3781868\ttotal: 37.3s\tremaining: 18.6s\n",
      "667:\tlearn: 0.3781779\ttotal: 37.3s\tremaining: 18.5s\n",
      "668:\tlearn: 0.3781666\ttotal: 37.4s\tremaining: 18.5s\n",
      "669:\tlearn: 0.3781524\ttotal: 37.4s\tremaining: 18.4s\n",
      "670:\tlearn: 0.3781142\ttotal: 37.5s\tremaining: 18.4s\n",
      "671:\tlearn: 0.3780673\ttotal: 37.5s\tremaining: 18.3s\n",
      "672:\tlearn: 0.3780641\ttotal: 37.6s\tremaining: 18.2s\n",
      "673:\tlearn: 0.3780270\ttotal: 37.6s\tremaining: 18.2s\n",
      "674:\tlearn: 0.3780009\ttotal: 37.7s\tremaining: 18.1s\n",
      "675:\tlearn: 0.3779643\ttotal: 37.7s\tremaining: 18.1s\n",
      "676:\tlearn: 0.3778962\ttotal: 37.8s\tremaining: 18s\n",
      "677:\tlearn: 0.3778537\ttotal: 37.8s\tremaining: 18s\n",
      "678:\tlearn: 0.3778435\ttotal: 37.9s\tremaining: 17.9s\n",
      "679:\tlearn: 0.3778422\ttotal: 37.9s\tremaining: 17.8s\n",
      "680:\tlearn: 0.3778048\ttotal: 38s\tremaining: 17.8s\n",
      "681:\tlearn: 0.3778013\ttotal: 38s\tremaining: 17.7s\n",
      "682:\tlearn: 0.3776461\ttotal: 38s\tremaining: 17.7s\n",
      "683:\tlearn: 0.3776328\ttotal: 38.1s\tremaining: 17.6s\n",
      "684:\tlearn: 0.3775750\ttotal: 38.1s\tremaining: 17.5s\n",
      "685:\tlearn: 0.3774865\ttotal: 38.2s\tremaining: 17.5s\n",
      "686:\tlearn: 0.3774802\ttotal: 38.2s\tremaining: 17.4s\n",
      "687:\tlearn: 0.3774802\ttotal: 38.3s\tremaining: 17.3s\n",
      "688:\tlearn: 0.3774782\ttotal: 38.3s\tremaining: 17.3s\n",
      "689:\tlearn: 0.3774767\ttotal: 38.3s\tremaining: 17.2s\n",
      "690:\tlearn: 0.3774534\ttotal: 38.4s\tremaining: 17.2s\n",
      "691:\tlearn: 0.3774110\ttotal: 38.4s\tremaining: 17.1s\n",
      "692:\tlearn: 0.3773977\ttotal: 38.4s\tremaining: 17s\n",
      "693:\tlearn: 0.3773262\ttotal: 38.5s\tremaining: 17s\n",
      "694:\tlearn: 0.3772834\ttotal: 38.6s\tremaining: 16.9s\n",
      "695:\tlearn: 0.3772401\ttotal: 38.6s\tremaining: 16.9s\n",
      "696:\tlearn: 0.3772247\ttotal: 38.6s\tremaining: 16.8s\n",
      "697:\tlearn: 0.3771380\ttotal: 38.7s\tremaining: 16.7s\n",
      "698:\tlearn: 0.3770783\ttotal: 38.7s\tremaining: 16.7s\n",
      "699:\tlearn: 0.3770318\ttotal: 38.8s\tremaining: 16.6s\n",
      "700:\tlearn: 0.3770109\ttotal: 38.8s\tremaining: 16.6s\n",
      "701:\tlearn: 0.3769922\ttotal: 38.9s\tremaining: 16.5s\n",
      "702:\tlearn: 0.3769646\ttotal: 38.9s\tremaining: 16.4s\n",
      "703:\tlearn: 0.3768826\ttotal: 39s\tremaining: 16.4s\n",
      "704:\tlearn: 0.3768807\ttotal: 39s\tremaining: 16.3s\n",
      "705:\tlearn: 0.3767965\ttotal: 39.1s\tremaining: 16.3s\n",
      "706:\tlearn: 0.3767780\ttotal: 39.2s\tremaining: 16.2s\n",
      "707:\tlearn: 0.3767758\ttotal: 39.2s\tremaining: 16.2s\n",
      "708:\tlearn: 0.3767626\ttotal: 39.3s\tremaining: 16.1s\n",
      "709:\tlearn: 0.3767419\ttotal: 39.3s\tremaining: 16.1s\n",
      "710:\tlearn: 0.3767393\ttotal: 39.4s\tremaining: 16s\n",
      "711:\tlearn: 0.3766866\ttotal: 39.4s\tremaining: 15.9s\n",
      "712:\tlearn: 0.3766625\ttotal: 39.5s\tremaining: 15.9s\n",
      "713:\tlearn: 0.3765871\ttotal: 39.5s\tremaining: 15.8s\n",
      "714:\tlearn: 0.3765246\ttotal: 39.6s\tremaining: 15.8s\n",
      "715:\tlearn: 0.3765234\ttotal: 39.6s\tremaining: 15.7s\n",
      "716:\tlearn: 0.3765030\ttotal: 39.7s\tremaining: 15.7s\n",
      "717:\tlearn: 0.3764825\ttotal: 39.7s\tremaining: 15.6s\n",
      "718:\tlearn: 0.3764144\ttotal: 39.8s\tremaining: 15.5s\n",
      "719:\tlearn: 0.3763554\ttotal: 39.8s\tremaining: 15.5s\n",
      "720:\tlearn: 0.3762595\ttotal: 39.9s\tremaining: 15.4s\n",
      "721:\tlearn: 0.3762431\ttotal: 39.9s\tremaining: 15.4s\n",
      "722:\tlearn: 0.3762245\ttotal: 40s\tremaining: 15.3s\n",
      "723:\tlearn: 0.3761850\ttotal: 40s\tremaining: 15.3s\n",
      "724:\tlearn: 0.3761327\ttotal: 40.1s\tremaining: 15.2s\n",
      "725:\tlearn: 0.3760931\ttotal: 40.2s\tremaining: 15.2s\n",
      "726:\tlearn: 0.3760408\ttotal: 40.2s\tremaining: 15.1s\n",
      "727:\tlearn: 0.3760119\ttotal: 40.3s\tremaining: 15s\n",
      "728:\tlearn: 0.3760119\ttotal: 40.3s\tremaining: 15s\n",
      "729:\tlearn: 0.3759973\ttotal: 40.3s\tremaining: 14.9s\n",
      "730:\tlearn: 0.3759891\ttotal: 40.4s\tremaining: 14.9s\n",
      "731:\tlearn: 0.3759610\ttotal: 40.4s\tremaining: 14.8s\n",
      "732:\tlearn: 0.3759379\ttotal: 40.5s\tremaining: 14.7s\n",
      "733:\tlearn: 0.3758962\ttotal: 40.5s\tremaining: 14.7s\n",
      "734:\tlearn: 0.3758819\ttotal: 40.6s\tremaining: 14.6s\n",
      "735:\tlearn: 0.3758321\ttotal: 40.6s\tremaining: 14.6s\n",
      "736:\tlearn: 0.3758262\ttotal: 40.7s\tremaining: 14.5s\n",
      "737:\tlearn: 0.3757963\ttotal: 40.7s\tremaining: 14.5s\n",
      "738:\tlearn: 0.3757534\ttotal: 40.8s\tremaining: 14.4s\n",
      "739:\tlearn: 0.3757162\ttotal: 40.8s\tremaining: 14.3s\n",
      "740:\tlearn: 0.3756461\ttotal: 40.9s\tremaining: 14.3s\n",
      "741:\tlearn: 0.3755614\ttotal: 40.9s\tremaining: 14.2s\n",
      "742:\tlearn: 0.3755609\ttotal: 41s\tremaining: 14.2s\n",
      "743:\tlearn: 0.3754957\ttotal: 41s\tremaining: 14.1s\n",
      "744:\tlearn: 0.3754803\ttotal: 41.1s\tremaining: 14.1s\n",
      "745:\tlearn: 0.3754577\ttotal: 41.1s\tremaining: 14s\n",
      "746:\tlearn: 0.3754313\ttotal: 41.2s\tremaining: 14s\n",
      "747:\tlearn: 0.3753863\ttotal: 41.2s\tremaining: 13.9s\n",
      "748:\tlearn: 0.3753556\ttotal: 41.3s\tremaining: 13.8s\n",
      "749:\tlearn: 0.3753341\ttotal: 41.3s\tremaining: 13.8s\n",
      "750:\tlearn: 0.3752775\ttotal: 41.4s\tremaining: 13.7s\n",
      "751:\tlearn: 0.3752087\ttotal: 41.5s\tremaining: 13.7s\n",
      "752:\tlearn: 0.3751318\ttotal: 41.5s\tremaining: 13.6s\n",
      "753:\tlearn: 0.3751156\ttotal: 41.6s\tremaining: 13.6s\n",
      "754:\tlearn: 0.3750813\ttotal: 41.6s\tremaining: 13.5s\n",
      "755:\tlearn: 0.3750791\ttotal: 41.6s\tremaining: 13.4s\n",
      "756:\tlearn: 0.3750789\ttotal: 41.7s\tremaining: 13.4s\n",
      "757:\tlearn: 0.3750683\ttotal: 41.7s\tremaining: 13.3s\n",
      "758:\tlearn: 0.3750592\ttotal: 41.7s\tremaining: 13.3s\n",
      "759:\tlearn: 0.3750518\ttotal: 41.8s\tremaining: 13.2s\n",
      "760:\tlearn: 0.3749782\ttotal: 41.9s\tremaining: 13.1s\n",
      "761:\tlearn: 0.3748600\ttotal: 41.9s\tremaining: 13.1s\n",
      "762:\tlearn: 0.3748040\ttotal: 42s\tremaining: 13s\n",
      "763:\tlearn: 0.3746763\ttotal: 42s\tremaining: 13s\n",
      "764:\tlearn: 0.3746203\ttotal: 42.1s\tremaining: 12.9s\n",
      "765:\tlearn: 0.3746189\ttotal: 42.1s\tremaining: 12.9s\n",
      "766:\tlearn: 0.3745568\ttotal: 42.2s\tremaining: 12.8s\n",
      "767:\tlearn: 0.3745568\ttotal: 42.2s\tremaining: 12.7s\n",
      "768:\tlearn: 0.3745411\ttotal: 42.3s\tremaining: 12.7s\n",
      "769:\tlearn: 0.3744755\ttotal: 42.3s\tremaining: 12.6s\n",
      "770:\tlearn: 0.3743962\ttotal: 42.4s\tremaining: 12.6s\n",
      "771:\tlearn: 0.3743744\ttotal: 42.4s\tremaining: 12.5s\n",
      "772:\tlearn: 0.3743250\ttotal: 42.5s\tremaining: 12.5s\n",
      "773:\tlearn: 0.3742412\ttotal: 42.5s\tremaining: 12.4s\n",
      "774:\tlearn: 0.3742244\ttotal: 42.6s\tremaining: 12.4s\n",
      "775:\tlearn: 0.3741831\ttotal: 42.7s\tremaining: 12.3s\n",
      "776:\tlearn: 0.3741203\ttotal: 42.7s\tremaining: 12.3s\n",
      "777:\tlearn: 0.3740796\ttotal: 42.8s\tremaining: 12.2s\n",
      "778:\tlearn: 0.3740722\ttotal: 42.8s\tremaining: 12.1s\n",
      "779:\tlearn: 0.3740017\ttotal: 42.8s\tremaining: 12.1s\n",
      "780:\tlearn: 0.3739972\ttotal: 42.9s\tremaining: 12s\n",
      "781:\tlearn: 0.3738924\ttotal: 42.9s\tremaining: 12s\n",
      "782:\tlearn: 0.3738922\ttotal: 42.9s\tremaining: 11.9s\n",
      "783:\tlearn: 0.3738529\ttotal: 43s\tremaining: 11.8s\n",
      "784:\tlearn: 0.3738436\ttotal: 43s\tremaining: 11.8s\n",
      "785:\tlearn: 0.3737854\ttotal: 43.1s\tremaining: 11.7s\n",
      "786:\tlearn: 0.3737577\ttotal: 43.1s\tremaining: 11.7s\n",
      "787:\tlearn: 0.3737088\ttotal: 43.2s\tremaining: 11.6s\n",
      "788:\tlearn: 0.3735917\ttotal: 43.3s\tremaining: 11.6s\n",
      "789:\tlearn: 0.3735490\ttotal: 43.3s\tremaining: 11.5s\n",
      "790:\tlearn: 0.3735172\ttotal: 43.4s\tremaining: 11.5s\n",
      "791:\tlearn: 0.3735172\ttotal: 43.4s\tremaining: 11.4s\n",
      "792:\tlearn: 0.3734477\ttotal: 43.5s\tremaining: 11.3s\n",
      "793:\tlearn: 0.3733789\ttotal: 43.5s\tremaining: 11.3s\n",
      "794:\tlearn: 0.3733379\ttotal: 43.6s\tremaining: 11.2s\n",
      "795:\tlearn: 0.3732728\ttotal: 43.6s\tremaining: 11.2s\n",
      "796:\tlearn: 0.3732260\ttotal: 43.7s\tremaining: 11.1s\n",
      "797:\tlearn: 0.3732170\ttotal: 43.7s\tremaining: 11.1s\n",
      "798:\tlearn: 0.3732051\ttotal: 43.7s\tremaining: 11s\n",
      "799:\tlearn: 0.3731585\ttotal: 43.8s\tremaining: 10.9s\n",
      "800:\tlearn: 0.3731518\ttotal: 43.8s\tremaining: 10.9s\n",
      "801:\tlearn: 0.3731323\ttotal: 43.9s\tremaining: 10.8s\n",
      "802:\tlearn: 0.3730345\ttotal: 43.9s\tremaining: 10.8s\n",
      "803:\tlearn: 0.3729427\ttotal: 44s\tremaining: 10.7s\n"
     ]
    },
    {
     "name": "stdout",
     "output_type": "stream",
     "text": [
      "804:\tlearn: 0.3728577\ttotal: 44s\tremaining: 10.7s\n",
      "805:\tlearn: 0.3728572\ttotal: 44.1s\tremaining: 10.6s\n",
      "806:\tlearn: 0.3728102\ttotal: 44.1s\tremaining: 10.6s\n",
      "807:\tlearn: 0.3728074\ttotal: 44.2s\tremaining: 10.5s\n",
      "808:\tlearn: 0.3727669\ttotal: 44.2s\tremaining: 10.4s\n",
      "809:\tlearn: 0.3727483\ttotal: 44.3s\tremaining: 10.4s\n",
      "810:\tlearn: 0.3727180\ttotal: 44.3s\tremaining: 10.3s\n",
      "811:\tlearn: 0.3727098\ttotal: 44.4s\tremaining: 10.3s\n",
      "812:\tlearn: 0.3726816\ttotal: 44.5s\tremaining: 10.2s\n",
      "813:\tlearn: 0.3726003\ttotal: 44.5s\tremaining: 10.2s\n",
      "814:\tlearn: 0.3725221\ttotal: 44.6s\tremaining: 10.1s\n",
      "815:\tlearn: 0.3724909\ttotal: 44.6s\tremaining: 10.1s\n",
      "816:\tlearn: 0.3724281\ttotal: 44.7s\tremaining: 10s\n",
      "817:\tlearn: 0.3723987\ttotal: 44.7s\tremaining: 9.96s\n",
      "818:\tlearn: 0.3723851\ttotal: 44.8s\tremaining: 9.9s\n",
      "819:\tlearn: 0.3723784\ttotal: 44.9s\tremaining: 9.85s\n",
      "820:\tlearn: 0.3723147\ttotal: 44.9s\tremaining: 9.79s\n",
      "821:\tlearn: 0.3721504\ttotal: 45s\tremaining: 9.74s\n",
      "822:\tlearn: 0.3721342\ttotal: 45s\tremaining: 9.68s\n",
      "823:\tlearn: 0.3720175\ttotal: 45.1s\tremaining: 9.63s\n",
      "824:\tlearn: 0.3719834\ttotal: 45.1s\tremaining: 9.57s\n",
      "825:\tlearn: 0.3719373\ttotal: 45.2s\tremaining: 9.52s\n",
      "826:\tlearn: 0.3717837\ttotal: 45.2s\tremaining: 9.46s\n",
      "827:\tlearn: 0.3716994\ttotal: 45.3s\tremaining: 9.41s\n",
      "828:\tlearn: 0.3716238\ttotal: 45.4s\tremaining: 9.36s\n",
      "829:\tlearn: 0.3715401\ttotal: 45.4s\tremaining: 9.3s\n",
      "830:\tlearn: 0.3714865\ttotal: 45.5s\tremaining: 9.25s\n",
      "831:\tlearn: 0.3714241\ttotal: 45.5s\tremaining: 9.2s\n",
      "832:\tlearn: 0.3713390\ttotal: 45.6s\tremaining: 9.14s\n",
      "833:\tlearn: 0.3711660\ttotal: 45.6s\tremaining: 9.08s\n",
      "834:\tlearn: 0.3711334\ttotal: 45.7s\tremaining: 9.03s\n",
      "835:\tlearn: 0.3710180\ttotal: 45.7s\tremaining: 8.97s\n",
      "836:\tlearn: 0.3709870\ttotal: 45.8s\tremaining: 8.92s\n",
      "837:\tlearn: 0.3709577\ttotal: 45.9s\tremaining: 8.87s\n",
      "838:\tlearn: 0.3709577\ttotal: 45.9s\tremaining: 8.81s\n",
      "839:\tlearn: 0.3709475\ttotal: 45.9s\tremaining: 8.75s\n",
      "840:\tlearn: 0.3709474\ttotal: 46s\tremaining: 8.69s\n",
      "841:\tlearn: 0.3709292\ttotal: 46s\tremaining: 8.64s\n",
      "842:\tlearn: 0.3708920\ttotal: 46.1s\tremaining: 8.58s\n",
      "843:\tlearn: 0.3708902\ttotal: 46.1s\tremaining: 8.53s\n",
      "844:\tlearn: 0.3708604\ttotal: 46.2s\tremaining: 8.47s\n",
      "845:\tlearn: 0.3708472\ttotal: 46.2s\tremaining: 8.41s\n",
      "846:\tlearn: 0.3708468\ttotal: 46.2s\tremaining: 8.35s\n",
      "847:\tlearn: 0.3707604\ttotal: 46.3s\tremaining: 8.3s\n",
      "848:\tlearn: 0.3707175\ttotal: 46.4s\tremaining: 8.24s\n",
      "849:\tlearn: 0.3706643\ttotal: 46.4s\tremaining: 8.19s\n",
      "850:\tlearn: 0.3706136\ttotal: 46.5s\tremaining: 8.14s\n",
      "851:\tlearn: 0.3705881\ttotal: 46.5s\tremaining: 8.09s\n",
      "852:\tlearn: 0.3705811\ttotal: 46.6s\tremaining: 8.03s\n",
      "853:\tlearn: 0.3705384\ttotal: 46.7s\tremaining: 7.98s\n",
      "854:\tlearn: 0.3705351\ttotal: 46.7s\tremaining: 7.92s\n",
      "855:\tlearn: 0.3704833\ttotal: 46.7s\tremaining: 7.86s\n",
      "856:\tlearn: 0.3703971\ttotal: 46.8s\tremaining: 7.81s\n",
      "857:\tlearn: 0.3703418\ttotal: 46.8s\tremaining: 7.75s\n",
      "858:\tlearn: 0.3702425\ttotal: 46.9s\tremaining: 7.7s\n",
      "859:\tlearn: 0.3702141\ttotal: 46.9s\tremaining: 7.64s\n",
      "860:\tlearn: 0.3701468\ttotal: 47s\tremaining: 7.59s\n",
      "861:\tlearn: 0.3701417\ttotal: 47s\tremaining: 7.53s\n",
      "862:\tlearn: 0.3701343\ttotal: 47.1s\tremaining: 7.47s\n",
      "863:\tlearn: 0.3700610\ttotal: 47.1s\tremaining: 7.42s\n",
      "864:\tlearn: 0.3700059\ttotal: 47.2s\tremaining: 7.36s\n",
      "865:\tlearn: 0.3699485\ttotal: 47.2s\tremaining: 7.31s\n",
      "866:\tlearn: 0.3699030\ttotal: 47.3s\tremaining: 7.26s\n",
      "867:\tlearn: 0.3698556\ttotal: 47.4s\tremaining: 7.2s\n",
      "868:\tlearn: 0.3698528\ttotal: 47.4s\tremaining: 7.15s\n",
      "869:\tlearn: 0.3698528\ttotal: 47.4s\tremaining: 7.09s\n",
      "870:\tlearn: 0.3698501\ttotal: 47.5s\tremaining: 7.03s\n",
      "871:\tlearn: 0.3697807\ttotal: 47.5s\tremaining: 6.98s\n",
      "872:\tlearn: 0.3697430\ttotal: 47.6s\tremaining: 6.92s\n",
      "873:\tlearn: 0.3697342\ttotal: 47.6s\tremaining: 6.87s\n",
      "874:\tlearn: 0.3697069\ttotal: 47.7s\tremaining: 6.82s\n",
      "875:\tlearn: 0.3696658\ttotal: 47.8s\tremaining: 6.76s\n",
      "876:\tlearn: 0.3695717\ttotal: 47.8s\tremaining: 6.71s\n",
      "877:\tlearn: 0.3695587\ttotal: 47.9s\tremaining: 6.65s\n",
      "878:\tlearn: 0.3695406\ttotal: 47.9s\tremaining: 6.6s\n",
      "879:\tlearn: 0.3695308\ttotal: 48s\tremaining: 6.54s\n",
      "880:\tlearn: 0.3694999\ttotal: 48s\tremaining: 6.49s\n",
      "881:\tlearn: 0.3694654\ttotal: 48.1s\tremaining: 6.43s\n",
      "882:\tlearn: 0.3694406\ttotal: 48.1s\tremaining: 6.38s\n",
      "883:\tlearn: 0.3692803\ttotal: 48.2s\tremaining: 6.32s\n",
      "884:\tlearn: 0.3692477\ttotal: 48.2s\tremaining: 6.27s\n",
      "885:\tlearn: 0.3692057\ttotal: 48.3s\tremaining: 6.21s\n",
      "886:\tlearn: 0.3690667\ttotal: 48.4s\tremaining: 6.16s\n",
      "887:\tlearn: 0.3689921\ttotal: 48.4s\tremaining: 6.1s\n",
      "888:\tlearn: 0.3689335\ttotal: 48.4s\tremaining: 6.05s\n",
      "889:\tlearn: 0.3688219\ttotal: 48.5s\tremaining: 6s\n",
      "890:\tlearn: 0.3688219\ttotal: 48.5s\tremaining: 5.94s\n",
      "891:\tlearn: 0.3687719\ttotal: 48.6s\tremaining: 5.89s\n",
      "892:\tlearn: 0.3686319\ttotal: 48.7s\tremaining: 5.83s\n",
      "893:\tlearn: 0.3685625\ttotal: 48.7s\tremaining: 5.78s\n",
      "894:\tlearn: 0.3685410\ttotal: 48.8s\tremaining: 5.72s\n",
      "895:\tlearn: 0.3684731\ttotal: 48.9s\tremaining: 5.67s\n",
      "896:\tlearn: 0.3684144\ttotal: 48.9s\tremaining: 5.62s\n",
      "897:\tlearn: 0.3683593\ttotal: 49s\tremaining: 5.56s\n",
      "898:\tlearn: 0.3682601\ttotal: 49s\tremaining: 5.51s\n",
      "899:\tlearn: 0.3682318\ttotal: 49.1s\tremaining: 5.45s\n",
      "900:\tlearn: 0.3681612\ttotal: 49.1s\tremaining: 5.4s\n",
      "901:\tlearn: 0.3680453\ttotal: 49.2s\tremaining: 5.34s\n",
      "902:\tlearn: 0.3679707\ttotal: 49.2s\tremaining: 5.29s\n",
      "903:\tlearn: 0.3679018\ttotal: 49.3s\tremaining: 5.24s\n",
      "904:\tlearn: 0.3678826\ttotal: 49.3s\tremaining: 5.18s\n",
      "905:\tlearn: 0.3678440\ttotal: 49.4s\tremaining: 5.13s\n",
      "906:\tlearn: 0.3677777\ttotal: 49.5s\tremaining: 5.07s\n",
      "907:\tlearn: 0.3677064\ttotal: 49.5s\tremaining: 5.02s\n",
      "908:\tlearn: 0.3676488\ttotal: 49.6s\tremaining: 4.96s\n",
      "909:\tlearn: 0.3675996\ttotal: 49.6s\tremaining: 4.91s\n",
      "910:\tlearn: 0.3675442\ttotal: 49.7s\tremaining: 4.85s\n",
      "911:\tlearn: 0.3675226\ttotal: 49.7s\tremaining: 4.8s\n",
      "912:\tlearn: 0.3674580\ttotal: 49.8s\tremaining: 4.74s\n",
      "913:\tlearn: 0.3674115\ttotal: 49.8s\tremaining: 4.69s\n",
      "914:\tlearn: 0.3673792\ttotal: 49.9s\tremaining: 4.63s\n",
      "915:\tlearn: 0.3673481\ttotal: 49.9s\tremaining: 4.58s\n",
      "916:\tlearn: 0.3672606\ttotal: 50s\tremaining: 4.53s\n",
      "917:\tlearn: 0.3672257\ttotal: 50s\tremaining: 4.47s\n",
      "918:\tlearn: 0.3671966\ttotal: 50.1s\tremaining: 4.42s\n",
      "919:\tlearn: 0.3671150\ttotal: 50.2s\tremaining: 4.36s\n",
      "920:\tlearn: 0.3671141\ttotal: 50.2s\tremaining: 4.31s\n",
      "921:\tlearn: 0.3670951\ttotal: 50.3s\tremaining: 4.25s\n",
      "922:\tlearn: 0.3670431\ttotal: 50.3s\tremaining: 4.2s\n",
      "923:\tlearn: 0.3669027\ttotal: 50.4s\tremaining: 4.14s\n",
      "924:\tlearn: 0.3668681\ttotal: 50.4s\tremaining: 4.09s\n",
      "925:\tlearn: 0.3668679\ttotal: 50.5s\tremaining: 4.03s\n",
      "926:\tlearn: 0.3668409\ttotal: 50.5s\tremaining: 3.98s\n",
      "927:\tlearn: 0.3668321\ttotal: 50.6s\tremaining: 3.92s\n",
      "928:\tlearn: 0.3667446\ttotal: 50.6s\tremaining: 3.87s\n",
      "929:\tlearn: 0.3667115\ttotal: 50.7s\tremaining: 3.81s\n",
      "930:\tlearn: 0.3666351\ttotal: 50.7s\tremaining: 3.76s\n",
      "931:\tlearn: 0.3665755\ttotal: 50.8s\tremaining: 3.7s\n",
      "932:\tlearn: 0.3665642\ttotal: 50.8s\tremaining: 3.65s\n",
      "933:\tlearn: 0.3665614\ttotal: 50.9s\tremaining: 3.59s\n",
      "934:\tlearn: 0.3664719\ttotal: 50.9s\tremaining: 3.54s\n",
      "935:\tlearn: 0.3664180\ttotal: 51s\tremaining: 3.49s\n",
      "936:\tlearn: 0.3663865\ttotal: 51.1s\tremaining: 3.43s\n",
      "937:\tlearn: 0.3663092\ttotal: 51.1s\tremaining: 3.38s\n",
      "938:\tlearn: 0.3662779\ttotal: 51.1s\tremaining: 3.32s\n",
      "939:\tlearn: 0.3661757\ttotal: 51.2s\tremaining: 3.27s\n",
      "940:\tlearn: 0.3661185\ttotal: 51.3s\tremaining: 3.21s\n",
      "941:\tlearn: 0.3660868\ttotal: 51.3s\tremaining: 3.16s\n",
      "942:\tlearn: 0.3660549\ttotal: 51.4s\tremaining: 3.11s\n",
      "943:\tlearn: 0.3660303\ttotal: 51.4s\tremaining: 3.05s\n",
      "944:\tlearn: 0.3659511\ttotal: 51.5s\tremaining: 3s\n",
      "945:\tlearn: 0.3658595\ttotal: 51.5s\tremaining: 2.94s\n",
      "946:\tlearn: 0.3657730\ttotal: 51.6s\tremaining: 2.89s\n",
      "947:\tlearn: 0.3656643\ttotal: 51.6s\tremaining: 2.83s\n",
      "948:\tlearn: 0.3656368\ttotal: 51.7s\tremaining: 2.78s\n",
      "949:\tlearn: 0.3655294\ttotal: 51.7s\tremaining: 2.72s\n",
      "950:\tlearn: 0.3654894\ttotal: 51.8s\tremaining: 2.67s\n",
      "951:\tlearn: 0.3654409\ttotal: 51.9s\tremaining: 2.62s\n",
      "952:\tlearn: 0.3653808\ttotal: 52s\tremaining: 2.56s\n",
      "953:\tlearn: 0.3653595\ttotal: 52s\tremaining: 2.51s\n",
      "954:\tlearn: 0.3653112\ttotal: 52.1s\tremaining: 2.45s\n",
      "955:\tlearn: 0.3652161\ttotal: 52.1s\tremaining: 2.4s\n",
      "956:\tlearn: 0.3652033\ttotal: 52.2s\tremaining: 2.34s\n",
      "957:\tlearn: 0.3651237\ttotal: 52.2s\tremaining: 2.29s\n",
      "958:\tlearn: 0.3650900\ttotal: 52.3s\tremaining: 2.23s\n",
      "959:\tlearn: 0.3650454\ttotal: 52.3s\tremaining: 2.18s\n",
      "960:\tlearn: 0.3649897\ttotal: 52.4s\tremaining: 2.13s\n",
      "961:\tlearn: 0.3649622\ttotal: 52.4s\tremaining: 2.07s\n",
      "962:\tlearn: 0.3648673\ttotal: 52.5s\tremaining: 2.02s\n",
      "963:\tlearn: 0.3647582\ttotal: 52.6s\tremaining: 1.96s\n"
     ]
    },
    {
     "name": "stdout",
     "output_type": "stream",
     "text": [
      "964:\tlearn: 0.3647294\ttotal: 52.6s\tremaining: 1.91s\n",
      "965:\tlearn: 0.3646440\ttotal: 52.7s\tremaining: 1.85s\n",
      "966:\tlearn: 0.3646121\ttotal: 52.7s\tremaining: 1.8s\n",
      "967:\tlearn: 0.3646082\ttotal: 52.8s\tremaining: 1.74s\n",
      "968:\tlearn: 0.3645784\ttotal: 52.8s\tremaining: 1.69s\n",
      "969:\tlearn: 0.3645766\ttotal: 52.9s\tremaining: 1.64s\n",
      "970:\tlearn: 0.3644611\ttotal: 52.9s\tremaining: 1.58s\n",
      "971:\tlearn: 0.3644195\ttotal: 53s\tremaining: 1.53s\n",
      "972:\tlearn: 0.3643441\ttotal: 53s\tremaining: 1.47s\n",
      "973:\tlearn: 0.3643043\ttotal: 53.1s\tremaining: 1.42s\n",
      "974:\tlearn: 0.3642997\ttotal: 53.1s\tremaining: 1.36s\n",
      "975:\tlearn: 0.3642431\ttotal: 53.2s\tremaining: 1.31s\n",
      "976:\tlearn: 0.3642110\ttotal: 53.2s\tremaining: 1.25s\n",
      "977:\tlearn: 0.3641736\ttotal: 53.3s\tremaining: 1.2s\n",
      "978:\tlearn: 0.3640897\ttotal: 53.4s\tremaining: 1.14s\n",
      "979:\tlearn: 0.3640477\ttotal: 53.4s\tremaining: 1.09s\n",
      "980:\tlearn: 0.3639840\ttotal: 53.4s\tremaining: 1.03s\n",
      "981:\tlearn: 0.3638999\ttotal: 53.5s\tremaining: 981ms\n",
      "982:\tlearn: 0.3638715\ttotal: 53.6s\tremaining: 926ms\n",
      "983:\tlearn: 0.3638025\ttotal: 53.6s\tremaining: 872ms\n",
      "984:\tlearn: 0.3637753\ttotal: 53.7s\tremaining: 817ms\n",
      "985:\tlearn: 0.3637256\ttotal: 53.7s\tremaining: 763ms\n",
      "986:\tlearn: 0.3636814\ttotal: 53.8s\tremaining: 708ms\n",
      "987:\tlearn: 0.3636363\ttotal: 53.8s\tremaining: 654ms\n",
      "988:\tlearn: 0.3636363\ttotal: 53.8s\tremaining: 599ms\n",
      "989:\tlearn: 0.3636297\ttotal: 53.9s\tremaining: 544ms\n",
      "990:\tlearn: 0.3635909\ttotal: 54s\tremaining: 490ms\n",
      "991:\tlearn: 0.3635591\ttotal: 54s\tremaining: 436ms\n",
      "992:\tlearn: 0.3635353\ttotal: 54.1s\tremaining: 381ms\n",
      "993:\tlearn: 0.3635319\ttotal: 54.2s\tremaining: 327ms\n",
      "994:\tlearn: 0.3635315\ttotal: 54.2s\tremaining: 273ms\n",
      "995:\tlearn: 0.3634836\ttotal: 54.3s\tremaining: 218ms\n",
      "996:\tlearn: 0.3634303\ttotal: 54.4s\tremaining: 164ms\n",
      "997:\tlearn: 0.3634043\ttotal: 54.4s\tremaining: 109ms\n",
      "998:\tlearn: 0.3633924\ttotal: 54.5s\tremaining: 54.5ms\n",
      "999:\tlearn: 0.3633095\ttotal: 54.5s\tremaining: 0us\n"
     ]
    }
   ],
   "source": [
    "#Обучим модель ctb.\n",
    "ctb.fit(X_train, y_train, cat_features=cat_features_idx);"
   ]
  },
  {
   "cell_type": "code",
   "execution_count": 33,
   "metadata": {},
   "outputs": [
    {
     "data": {
      "text/plain": [
       "0.851361342807126"
      ]
     },
     "execution_count": 33,
     "metadata": {},
     "output_type": "execute_result"
    }
   ],
   "source": [
    "roc_auc_score(y_test, ctb.predict_proba(X_test)[:, 1])"
   ]
  },
  {
   "cell_type": "markdown",
   "metadata": {
    "id": "rf4Kjt96EEZU"
   },
   "source": [
    "Выпишите, какое лучшее качество и с какими параметрами вам удалось получить"
   ]
  },
  {
   "cell_type": "code",
   "execution_count": 34,
   "metadata": {},
   "outputs": [
    {
     "data": {
      "text/plain": [
       "0.851361342807126"
      ]
     },
     "execution_count": 34,
     "metadata": {},
     "output_type": "execute_result"
    }
   ],
   "source": [
    "0.851361342807126"
   ]
  },
  {
   "cell_type": "markdown",
   "metadata": {
    "id": "dDMXbvNZEEZV"
   },
   "source": [
    "# Предсказания"
   ]
  },
  {
   "cell_type": "code",
   "execution_count": 35,
   "metadata": {
    "id": "G_P4wFNaEEZW",
    "outputId": "1fba5dfc-88e4-49e3-ed8a-afe21ae3325a"
   },
   "outputs": [],
   "source": [
    "best_model = ctb # какая-то предыдущая модель"
   ]
  },
  {
   "cell_type": "code",
   "execution_count": 36,
   "metadata": {
    "id": "FfSufx0CEEZZ"
   },
   "outputs": [],
   "source": [
    "X_test = pd.read_csv('./test.csv')\n",
    "submission = pd.read_csv('./submission.csv')\n",
    "\n",
    "submission['Churn'] = best_model.predict_proba(X_test)[:, 1]\n",
    "submission.to_csv('./my_submission.csv')"
   ]
  },
  {
   "cell_type": "markdown",
   "metadata": {
    "id": "tzGirrp5l2I-"
   },
   "source": [
    "Лучшее решение отправьте в Stepik."
   ]
  }
 ],
 "metadata": {
  "colab": {
   "authorship_tag": "ABX9TyNLhaHLxDgfaE0WjMnuolO1",
   "provenance": []
  },
  "kernelspec": {
   "display_name": "Python 3 (ipykernel)",
   "language": "python",
   "name": "python3"
  },
  "language_info": {
   "codemirror_mode": {
    "name": "ipython",
    "version": 3
   },
   "file_extension": ".py",
   "mimetype": "text/x-python",
   "name": "python",
   "nbconvert_exporter": "python",
   "pygments_lexer": "ipython3",
   "version": "3.9.13"
  }
 },
 "nbformat": 4,
 "nbformat_minor": 1
}
